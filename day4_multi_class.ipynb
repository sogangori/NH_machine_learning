{
 "cells": [
  {
   "cell_type": "markdown",
   "metadata": {},
   "source": [
    "# 분류\n",
    "#### 클래스가 2종류일 때는 2진 분류(binary classification), 다중 multi classification\n",
    "\n",
    "문제 : 예측 > 분류\n",
    "예 : 과체중 예측하기, 과체중일 확률이 0.6, 반올림(0.6) = 1, 클래스=1\n",
    "입력 : 몸무게와 키\n",
    "출력 : 클래스(저체중 0, 정상 1, 과체중 2)\n",
    "출력 : 클래스(사과0, 배1, 포도2) : LinearRegression 불가능"
   ]
  },
  {
   "cell_type": "code",
   "execution_count": 49,
   "metadata": {},
   "outputs": [],
   "source": [
    "import numpy as np"
   ]
  },
  {
   "cell_type": "code",
   "execution_count": 50,
   "metadata": {},
   "outputs": [],
   "source": [
    "x = [[48,180],[50,190],[55,160], [60,165], [65, 155], [70,180], [75,160]]\n",
    "y = [0, 0, 1, 1, 2, 1, 2]\n",
    "#선형함수 Y = WX + b,  X = [x1, x2], W = [w1, w2]\n",
    "#Y_0 = W_0 X + b_0\n",
    "#Y_1 = W_1 X + b_1\n",
    "#Y_2 = W_2 X + b_2\n",
    "# W = (3,2), b=(3,1)\n",
    "# W = [w10 w20]\n",
    "#     [w11 w21]\n",
    "#     [w12 w22]"
   ]
  },
  {
   "cell_type": "code",
   "execution_count": 88,
   "metadata": {},
   "outputs": [
    {
     "data": {
      "text/plain": [
       "(178, 14)"
      ]
     },
     "execution_count": 88,
     "metadata": {},
     "output_type": "execute_result"
    }
   ],
   "source": [
    "import pandas as pd\n",
    "df = pd.read_csv('./datasets/wine.data', header=None)\n",
    "df.shape\n",
    "#첫번째 컬럼이 원산지 클래스"
   ]
  },
  {
   "cell_type": "code",
   "execution_count": 90,
   "metadata": {},
   "outputs": [
    {
     "data": {
      "text/plain": [
       "0"
      ]
     },
     "execution_count": 90,
     "metadata": {},
     "output_type": "execute_result"
    }
   ],
   "source": [
    "df.isna().sum().sum()"
   ]
  },
  {
   "cell_type": "code",
   "execution_count": 106,
   "metadata": {},
   "outputs": [
    {
     "data": {
      "text/plain": [
       "(178, 13)"
      ]
     },
     "execution_count": 106,
     "metadata": {},
     "output_type": "execute_result"
    }
   ],
   "source": [
    "y = df.iloc[:, 0]\n",
    "x = df.iloc[:, 1:]\n",
    "x.shape # W [3,13] b[3,1]"
   ]
  },
  {
   "cell_type": "code",
   "execution_count": 108,
   "metadata": {},
   "outputs": [
    {
     "data": {
      "text/plain": [
       "(array([-0.1,  0. , -0.1,  0. , -0. ,  0.1, -0.4, -0.3,  0. ,  0.1, -0.1,\n",
       "        -0.3, -0. ]), 4.47328530579772)"
      ]
     },
     "execution_count": 108,
     "metadata": {},
     "output_type": "execute_result"
    }
   ],
   "source": [
    "x = np.array(x)\n",
    "y = np.array(y)\n",
    "from sklearn.linear_model import LinearRegression\n",
    "model = LinearRegression().fit(x,y)\n",
    "model.coef_, model.intercept_"
   ]
  },
  {
   "cell_type": "code",
   "execution_count": 109,
   "metadata": {},
   "outputs": [
    {
     "data": {
      "text/plain": [
       "array([0.8, 0.9, 1.1, 0.9, 1.6, 0.8, 0.8, 0.9, 1. , 1.1, 0.8, 1.1, 1. ,\n",
       "       0.6, 0.6, 1.1, 1.1, 1.2, 0.6, 1.2, 1.1, 1.5, 0.8, 1.2, 1.2, 1.4,\n",
       "       1. , 1.3, 1.1, 1.2, 1.2, 1. , 1.1, 1.1, 1.2, 1.3, 1.3, 1.4, 1.2,\n",
       "       1.1, 1.3, 1.4, 0.8, 1.6, 1.3, 1.3, 1. , 1.1, 1.4, 1.1, 1.2, 0.9,\n",
       "       0.9, 1. , 1.2, 1.5, 1.2, 1. , 1. , 2.4, 2.2, 2.5, 1.9, 1.9, 2.1,\n",
       "       1.8, 1.6, 1.9, 2. , 2. , 2.2, 1.7, 2.1, 1.6, 1.9, 2.3, 2.1, 2.2,\n",
       "       1.8, 1.9, 1.9, 1.6, 2.1, 2.4, 1.8, 1.8, 2.2, 2.1, 2. , 2. , 2.1,\n",
       "       2.3, 2.2, 1.9, 2.1, 1.6, 2.4, 1.8, 1.5, 1.7, 1.8, 2. , 1.9, 2.4,\n",
       "       1.7, 2. , 1.8, 2.1, 2.1, 1.5, 2.2, 2.1, 1.8, 2.3, 2. , 2. , 2. ,\n",
       "       2. , 2.4, 2. , 1.7, 1.3, 2.1, 2. , 1.8, 1.9, 1.9, 2.3, 2.1, 2.2,\n",
       "       2.5, 2.7, 2.9, 2.8, 2.7, 2.8, 2.8, 3.1, 2.7, 2.8, 2.5, 2.4, 2.6,\n",
       "       2.6, 2.8, 2.6, 3. , 3. , 3. , 3. , 3. , 3.2, 3.2, 3. , 3. , 3.1,\n",
       "       3. , 3. , 3.2, 3.2, 3.2, 2.6, 2.7, 2.6, 3. , 3. , 3.1, 3.1, 2.9,\n",
       "       3. , 2.9, 3.2, 2.9, 2.8, 2.9, 3. , 2.9, 3.1])"
      ]
     },
     "execution_count": 109,
     "metadata": {},
     "output_type": "execute_result"
    }
   ],
   "source": [
    "#예측 =  w1 * x1 + x2 * x2 + b\n",
    "y_hat = np.sum(model.coef_ * x, axis=1) + model.intercept_\n",
    "y_hat"
   ]
  },
  {
   "cell_type": "code",
   "execution_count": 114,
   "metadata": {},
   "outputs": [
    {
     "data": {
      "text/plain": [
       "array([1., 1., 1., 1., 2., 1., 1., 1., 1., 1., 1., 1., 1., 1., 1., 1., 1.,\n",
       "       1., 1., 1., 1., 2., 1., 1., 1., 1., 1., 1., 1., 1., 1., 1., 1., 1.,\n",
       "       1., 1., 1., 1., 1., 1., 1., 1., 1., 2., 1., 1., 1., 1., 1., 1., 1.,\n",
       "       1., 1., 1., 1., 1., 1., 1., 1., 2., 2., 3., 2., 2., 2., 2., 2., 2.,\n",
       "       2., 2., 2., 2., 2., 2., 2., 2., 2., 2., 2., 2., 2., 2., 2., 2., 2.,\n",
       "       2., 2., 2., 2., 2., 2., 2., 2., 2., 2., 2., 2., 2., 2., 2., 2., 2.,\n",
       "       2., 2., 2., 2., 2., 2., 2., 2., 2., 2., 2., 2., 2., 2., 2., 2., 2.,\n",
       "       2., 2., 1., 2., 2., 2., 2., 2., 2., 2., 2., 2., 3., 3., 3., 3., 3.,\n",
       "       3., 3., 3., 3., 3., 2., 3., 3., 3., 3., 3., 3., 3., 3., 3., 3., 3.,\n",
       "       3., 3., 3., 3., 3., 3., 3., 3., 3., 3., 3., 3., 3., 3., 3., 3., 3.,\n",
       "       3., 3., 3., 3., 3., 3., 3., 3.])"
      ]
     },
     "execution_count": 114,
     "metadata": {},
     "output_type": "execute_result"
    }
   ],
   "source": [
    "np.round(y_hat)"
   ]
  },
  {
   "cell_type": "markdown",
   "metadata": {},
   "source": [
    "반올림은 미분이 안되기 때문에 경사하강법에서는 사용할 수 없습니다.\n",
    "그래서 반올림과 성격이 유사하면서 미분이 되는 로지스틱함수(시그모이드)를 사용합니다"
   ]
  },
  {
   "cell_type": "code",
   "execution_count": 115,
   "metadata": {},
   "outputs": [],
   "source": [
    "z = np.arange(-10,10,0.1)\n",
    "sigmoid = 1/ (1+ np.exp(-z))"
   ]
  },
  {
   "cell_type": "code",
   "execution_count": 116,
   "metadata": {},
   "outputs": [],
   "source": [
    "import matplotlib.pyplot as plt"
   ]
  },
  {
   "cell_type": "code",
   "execution_count": 117,
   "metadata": {
    "scrolled": true
   },
   "outputs": [
    {
     "name": "stderr",
     "output_type": "stream",
     "text": [
      "C:\\ProgramData\\Anaconda3\\lib\\site-packages\\sklearn\\linear_model\\logistic.py:432: FutureWarning: Default solver will be changed to 'lbfgs' in 0.22. Specify a solver to silence this warning.\n",
      "  FutureWarning)\n",
      "C:\\ProgramData\\Anaconda3\\lib\\site-packages\\sklearn\\linear_model\\logistic.py:469: FutureWarning: Default multi_class will be changed to 'auto' in 0.22. Specify the multi_class option to silence this warning.\n",
      "  \"this warning.\", FutureWarning)\n"
     ]
    },
    {
     "data": {
      "text/plain": [
       "(array([[-5.3e-01,  7.7e-01,  1.1e+00, -6.3e-01, -2.4e-02,  1.2e-01,\n",
       "          1.4e+00,  9.2e-02, -4.4e-01, -1.1e-01, -1.7e-01,  8.5e-01,\n",
       "          1.6e-02],\n",
       "        [ 9.0e-01, -1.2e+00, -8.4e-01,  2.5e-01,  5.5e-03,  2.4e-01,\n",
       "          5.8e-01,  4.2e-01,  7.0e-01, -1.8e+00,  9.1e-01,  2.0e-02,\n",
       "         -1.3e-02],\n",
       "        [-3.4e-01,  6.5e-01,  1.0e-01,  1.3e-01,  1.9e-02, -6.3e-01,\n",
       "         -1.9e+00, -1.5e-01, -7.3e-01,  1.1e+00, -5.6e-01, -1.2e+00,\n",
       "          1.2e-04]]), array([-0.3,  0.4, -0.1]))"
      ]
     },
     "execution_count": 117,
     "metadata": {},
     "output_type": "execute_result"
    }
   ],
   "source": [
    "from sklearn.linear_model import LogisticRegression\n",
    "model = LogisticRegression().fit(x,y)\n",
    "model.coef_, model.intercept_"
   ]
  },
  {
   "cell_type": "code",
   "execution_count": 118,
   "metadata": {
    "scrolled": true
   },
   "outputs": [
    {
     "data": {
      "text/plain": [
       "((3, 13), (178, 13))"
      ]
     },
     "execution_count": 118,
     "metadata": {},
     "output_type": "execute_result"
    }
   ],
   "source": [
    "model.coef_.shape, x.shape"
   ]
  },
  {
   "cell_type": "code",
   "execution_count": 119,
   "metadata": {},
   "outputs": [
    {
     "data": {
      "text/plain": [
       "array([[1.4e+01, 1.7e+00, 2.4e+00, ..., 1.0e+00, 3.9e+00, 1.1e+03],\n",
       "       [1.3e+01, 1.8e+00, 2.1e+00, ..., 1.1e+00, 3.4e+00, 1.0e+03],\n",
       "       [1.3e+01, 2.4e+00, 2.7e+00, ..., 1.0e+00, 3.2e+00, 1.2e+03],\n",
       "       ...,\n",
       "       [1.3e+01, 4.3e+00, 2.3e+00, ..., 5.9e-01, 1.6e+00, 8.4e+02],\n",
       "       [1.3e+01, 2.6e+00, 2.4e+00, ..., 6.0e-01, 1.6e+00, 8.4e+02],\n",
       "       [1.4e+01, 4.1e+00, 2.7e+00, ..., 6.1e-01, 1.6e+00, 5.6e+02]])"
      ]
     },
     "execution_count": 119,
     "metadata": {},
     "output_type": "execute_result"
    }
   ],
   "source": [
    "x"
   ]
  },
  {
   "cell_type": "code",
   "execution_count": 120,
   "metadata": {},
   "outputs": [
    {
     "data": {
      "text/plain": [
       "array([1, 1, 1, 1, 2, 1, 1, 1, 1, 1, 1, 1, 1, 1, 1, 1, 1, 1, 1, 1, 1, 1,\n",
       "       1, 1, 1, 2, 1, 1, 1, 1, 1, 1, 1, 1, 1, 1, 1, 1, 1, 1, 1, 1, 1, 1,\n",
       "       1, 1, 1, 1, 1, 1, 1, 1, 1, 1, 1, 1, 1, 1, 1, 2, 2, 3, 2, 2, 2, 2,\n",
       "       2, 2, 2, 2, 2, 2, 2, 2, 2, 2, 2, 2, 2, 2, 2, 2, 2, 3, 2, 2, 2, 2,\n",
       "       2, 2, 2, 2, 2, 2, 2, 2, 2, 2, 2, 2, 2, 2, 2, 2, 2, 2, 2, 2, 2, 2,\n",
       "       2, 2, 2, 2, 2, 2, 2, 2, 2, 2, 2, 2, 2, 2, 2, 2, 2, 2, 2, 2, 2, 3,\n",
       "       3, 3, 3, 3, 3, 3, 3, 3, 3, 3, 3, 3, 3, 3, 3, 3, 3, 3, 3, 3, 3, 3,\n",
       "       3, 3, 3, 3, 3, 3, 3, 3, 3, 3, 3, 3, 3, 3, 3, 3, 3, 3, 3, 3, 3, 3,\n",
       "       3, 3], dtype=int64)"
      ]
     },
     "execution_count": 120,
     "metadata": {},
     "output_type": "execute_result"
    }
   ],
   "source": [
    "model.predict(x) "
   ]
  },
  {
   "cell_type": "code",
   "execution_count": 126,
   "metadata": {},
   "outputs": [
    {
     "data": {
      "text/plain": [
       "(3, 178)"
      ]
     },
     "execution_count": 126,
     "metadata": {},
     "output_type": "execute_result"
    }
   ],
   "source": [
    "# class Score \n",
    "np.set_printoptions(precision=1)\n",
    "y_hat = np.matmul(model.coef_, x.T) + np.expand_dims(model.intercept_, axis=1)\n",
    "y_hat.shape"
   ]
  },
  {
   "cell_type": "code",
   "execution_count": 127,
   "metadata": {},
   "outputs": [
    {
     "data": {
      "text/plain": [
       "array([1, 1, 1, 1, 2, 1, 1, 1, 1, 1, 1, 1, 1, 1, 1, 1, 1, 1, 1, 1, 1, 1,\n",
       "       1, 1, 1, 2, 1, 1, 1, 1, 1, 1, 1, 1, 1, 1, 1, 1, 1, 1, 1, 1, 1, 1,\n",
       "       1, 1, 1, 1, 1, 1, 1, 1, 1, 1, 1, 1, 1, 1, 1, 2, 2, 3, 2, 2, 2, 2,\n",
       "       2, 2, 2, 2, 2, 2, 2, 2, 2, 2, 2, 2, 2, 2, 2, 2, 2, 3, 2, 2, 2, 2,\n",
       "       2, 2, 2, 2, 2, 2, 2, 2, 2, 2, 2, 2, 2, 2, 2, 2, 2, 2, 2, 2, 2, 2,\n",
       "       2, 2, 2, 2, 2, 2, 2, 2, 2, 2, 2, 2, 2, 2, 2, 2, 2, 2, 2, 2, 2, 3,\n",
       "       3, 3, 3, 3, 3, 3, 3, 3, 3, 3, 3, 3, 3, 3, 3, 3, 3, 3, 3, 3, 3, 3,\n",
       "       3, 3, 3, 3, 3, 3, 3, 3, 3, 3, 3, 3, 3, 3, 3, 3, 3, 3, 3, 3, 3, 3,\n",
       "       3, 3], dtype=int64)"
      ]
     },
     "execution_count": 127,
     "metadata": {},
     "output_type": "execute_result"
    }
   ],
   "source": [
    "np.argmax(y_hat, axis=0) + 1 \n",
    "#몇번째 행값이 가장 큰가 > 어떤 경작지에서 왔을 확률이 큰가 "
   ]
  },
  {
   "cell_type": "code",
   "execution_count": 124,
   "metadata": {},
   "outputs": [
    {
     "data": {
      "text/plain": [
       "array([1, 1, 1, 1, 1, 1, 1, 1, 1, 1, 1, 1, 1, 1, 1, 1, 1, 1, 1, 1, 1, 1,\n",
       "       1, 1, 1, 1, 1, 1, 1, 1, 1, 1, 1, 1, 1, 1, 1, 1, 1, 1, 1, 1, 1, 1,\n",
       "       1, 1, 1, 1, 1, 1, 1, 1, 1, 1, 1, 1, 1, 1, 1, 2, 2, 2, 2, 2, 2, 2,\n",
       "       2, 2, 2, 2, 2, 2, 2, 2, 2, 2, 2, 2, 2, 2, 2, 2, 2, 2, 2, 2, 2, 2,\n",
       "       2, 2, 2, 2, 2, 2, 2, 2, 2, 2, 2, 2, 2, 2, 2, 2, 2, 2, 2, 2, 2, 2,\n",
       "       2, 2, 2, 2, 2, 2, 2, 2, 2, 2, 2, 2, 2, 2, 2, 2, 2, 2, 2, 2, 3, 3,\n",
       "       3, 3, 3, 3, 3, 3, 3, 3, 3, 3, 3, 3, 3, 3, 3, 3, 3, 3, 3, 3, 3, 3,\n",
       "       3, 3, 3, 3, 3, 3, 3, 3, 3, 3, 3, 3, 3, 3, 3, 3, 3, 3, 3, 3, 3, 3,\n",
       "       3, 3], dtype=int64)"
      ]
     },
     "execution_count": 124,
     "metadata": {},
     "output_type": "execute_result"
    }
   ],
   "source": [
    "y"
   ]
  },
  {
   "cell_type": "markdown",
   "metadata": {},
   "source": [
    "## 예측 LinearRegression : Y = WX + b\n",
    "## 분류 LogistRegression : Y = sigmoid(WX + b)\n",
    "그러므로 분류는 예측을 먼저 하고 나서 분류하는 것입니다"
   ]
  },
  {
   "cell_type": "markdown",
   "metadata": {},
   "source": [
    "(4,2) * (2,3) = (4,3)"
   ]
  },
  {
   "cell_type": "code",
   "execution_count": 150,
   "metadata": {},
   "outputs": [
    {
     "data": {
      "text/plain": [
       "array([[0, 1],\n",
       "       [2, 3],\n",
       "       [4, 5],\n",
       "       [6, 7]])"
      ]
     },
     "execution_count": 150,
     "metadata": {},
     "output_type": "execute_result"
    }
   ],
   "source": [
    "a = np.arange(8).reshape(4,2)\n",
    "a"
   ]
  },
  {
   "cell_type": "code",
   "execution_count": 151,
   "metadata": {},
   "outputs": [
    {
     "data": {
      "text/plain": [
       "array([[0, 1, 2],\n",
       "       [3, 4, 5]])"
      ]
     },
     "execution_count": 151,
     "metadata": {},
     "output_type": "execute_result"
    }
   ],
   "source": [
    "w = np.arange(6).reshape(2,3)\n",
    "w"
   ]
  },
  {
   "cell_type": "code",
   "execution_count": 152,
   "metadata": {},
   "outputs": [
    {
     "data": {
      "text/plain": [
       "array([[ 3,  4,  5],\n",
       "       [ 9, 14, 19],\n",
       "       [15, 24, 33],\n",
       "       [21, 34, 47]])"
      ]
     },
     "execution_count": 152,
     "metadata": {},
     "output_type": "execute_result"
    }
   ],
   "source": [
    "np.matmul(a, w)"
   ]
  },
  {
   "cell_type": "code",
   "execution_count": null,
   "metadata": {},
   "outputs": [],
   "source": []
  }
 ],
 "metadata": {
  "kernelspec": {
   "display_name": "Python 3",
   "language": "python",
   "name": "python3"
  },
  "language_info": {
   "codemirror_mode": {
    "name": "ipython",
    "version": 3
   },
   "file_extension": ".py",
   "mimetype": "text/x-python",
   "name": "python",
   "nbconvert_exporter": "python",
   "pygments_lexer": "ipython3",
   "version": "3.7.3"
  }
 },
 "nbformat": 4,
 "nbformat_minor": 2
}
