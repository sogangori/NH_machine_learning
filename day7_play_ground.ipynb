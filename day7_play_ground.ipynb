{
 "cells": [
  {
   "cell_type": "markdown",
   "metadata": {},
   "source": [
    "# 뉴럴 네트워크 play ground 모방"
   ]
  },
  {
   "cell_type": "code",
   "execution_count": 2,
   "metadata": {},
   "outputs": [],
   "source": [
    "import numpy as np\n",
    "import tensorflow as tf\n",
    "import matplotlib.pyplot as plt"
   ]
  },
  {
   "cell_type": "code",
   "execution_count": 17,
   "metadata": {},
   "outputs": [
    {
     "data": {
      "text/plain": [
       "(-5.957774332337621, 5.975292247569572, (500, 2))"
      ]
     },
     "execution_count": 17,
     "metadata": {},
     "output_type": "execute_result"
    }
   ],
   "source": [
    "m = 500\n",
    "x1 = np.random.rand(m) * 12 - 6\n",
    "x2 = np.random.rand(m) * 12 - 6\n",
    "X = np.stack((x1,x2), axis=1)  # (100, 2)\n",
    "x1.min(), x1.max(), X.shape"
   ]
  },
  {
   "cell_type": "code",
   "execution_count": 24,
   "metadata": {},
   "outputs": [
    {
     "data": {
      "text/plain": [
       "0.6659999999999999"
      ]
     },
     "execution_count": 24,
     "metadata": {},
     "output_type": "execute_result"
    }
   ],
   "source": [
    "y = np.sqrt(x1**2 + x2**2) < 4\n",
    "1 - np.mean(y)"
   ]
  },
  {
   "cell_type": "code",
   "execution_count": null,
   "metadata": {},
   "outputs": [],
   "source": [
    "plt.figure(figsize=(3,3))\n",
    "plt.scatter(x1, x2, c=y)"
   ]
  },
  {
   "cell_type": "code",
   "execution_count": null,
   "metadata": {},
   "outputs": [],
   "source": [
    "#학습 실패\n",
    "from sklearn.linear_model import LogisticRegression\n",
    "model = LogisticRegression().fit(X,y)\n",
    "model.score(X,y)"
   ]
  },
  {
   "cell_type": "code",
   "execution_count": 26,
   "metadata": {},
   "outputs": [],
   "source": [
    "from sklearn.preprocessing import PolynomialFeatures\n",
    "pf = PolynomialFeatures(degree=2)"
   ]
  },
  {
   "cell_type": "code",
   "execution_count": 29,
   "metadata": {},
   "outputs": [
    {
     "data": {
      "text/plain": [
       "((500, 6), ['1', 'x0', 'x1', 'x0^2', 'x0 x1', 'x1^2'])"
      ]
     },
     "execution_count": 29,
     "metadata": {},
     "output_type": "execute_result"
    }
   ],
   "source": [
    "xx = pf.fit_transform(X)\n",
    "xx.shape, pf.get_feature_names()"
   ]
  },
  {
   "cell_type": "code",
   "execution_count": 31,
   "metadata": {},
   "outputs": [
    {
     "name": "stderr",
     "output_type": "stream",
     "text": [
      "C:\\ProgramData\\Anaconda3\\lib\\site-packages\\sklearn\\linear_model\\logistic.py:432: FutureWarning: Default solver will be changed to 'lbfgs' in 0.22. Specify a solver to silence this warning.\n",
      "  FutureWarning)\n"
     ]
    },
    {
     "data": {
      "text/plain": [
       "(0.988, array([[ 4.08399728e+00,  3.67990434e-02, -1.14548418e-02,\n",
       "         -5.45320627e-01,  2.58140735e-04, -5.30553528e-01]]))"
      ]
     },
     "execution_count": 31,
     "metadata": {},
     "output_type": "execute_result"
    }
   ],
   "source": [
    "# 다항특성을 추가하면 분류 성공\n",
    "model = LogisticRegression().fit(xx,y)\n",
    "model.score(xx,y),model.coef_"
   ]
  },
  {
   "cell_type": "markdown",
   "metadata": {},
   "source": [
    "## 히든 레이어 1개(노드 5개) 추가\n",
    "\n",
    "X: 2 개 특징\n",
    "히든1 : 5 개 특징\n",
    "출력 : 1개 > sigmoid > 확률"
   ]
  },
  {
   "cell_type": "code",
   "execution_count": 33,
   "metadata": {},
   "outputs": [
    {
     "data": {
      "text/plain": [
       "((500, 2), (500,))"
      ]
     },
     "execution_count": 33,
     "metadata": {},
     "output_type": "execute_result"
    }
   ],
   "source": [
    "X.shape, y.shape"
   ]
  },
  {
   "cell_type": "code",
   "execution_count": 35,
   "metadata": {
    "scrolled": true
   },
   "outputs": [
    {
     "data": {
      "text/plain": [
       "(500, 1)"
      ]
     },
     "execution_count": 35,
     "metadata": {},
     "output_type": "execute_result"
    }
   ],
   "source": [
    "y = np.reshape(y, [-1, 1])\n",
    "y.shape"
   ]
  },
  {
   "cell_type": "code",
   "execution_count": 179,
   "metadata": {},
   "outputs": [],
   "source": [
    "W1 = tf.Variable(tf.random_normal(shape=[2, 5])) # X > hidden \n",
    "b1 = tf.Variable(tf.random_normal(shape=[5])) \n",
    "W2 = tf.Variable(tf.random_normal(shape=[5, 1])) # hidden > out\n",
    "b2 = tf.Variable(tf.random_normal(shape=[1])) \n",
    "hidden = tf.sigmoid(tf.matmul(tf.cast(X, tf.float32), W1) + b1)\n",
    "out = tf.sigmoid(tf.matmul(hidden, W2) + b2)\n",
    "gt = tf.cast(y, tf.float32) #정답 ground_truth\n",
    "cost = - tf.reduce_mean(gt * tf.log(out) + (1-gt) * tf.log(1-out))\n",
    "train = tf.train.GradientDescentOptimizer(0.1).minimize(cost)\n",
    "accuracy = tf.reduce_mean(tf.cast(tf.equal(gt, tf.round(out)) ,tf.float32))\n",
    "sess = tf.Session()\n",
    "sess.run(tf.global_variables_initializer())\n",
    "cost_list = []\n",
    "accuracy_list = []"
   ]
  },
  {
   "cell_type": "code",
   "execution_count": null,
   "metadata": {},
   "outputs": [],
   "source": [
    "for i in range(10000):\n",
    "    _, c, a = sess.run([train, cost, accuracy])\n",
    "    cost_list.append(c)    \n",
    "    accuracy_list.append(a)\n",
    "plt.plot(cost_list, label='cost')\n",
    "plt.plot(accuracy_list, label='accuracy')\n",
    "plt.legend()"
   ]
  },
  {
   "cell_type": "markdown",
   "metadata": {},
   "source": [
    "### 인구조사 연수입 5천만 이상(1), 이하(0) 분류 \n",
    "- sklearn 으로 기본 성능 측정\n",
    "- tensorflow 로 히든 없이/넣고 비교해서 히든 레이어를 넣으면 성능이 올라가는지 확인"
   ]
  },
  {
   "cell_type": "code",
   "execution_count": 3,
   "metadata": {},
   "outputs": [
    {
     "data": {
      "text/plain": [
       "(32561, 15)"
      ]
     },
     "execution_count": 3,
     "metadata": {},
     "output_type": "execute_result"
    }
   ],
   "source": [
    "import pandas as pd\n",
    "df = pd.read_csv('./datasets/adult.data', header=None)\n",
    "df.shape"
   ]
  },
  {
   "cell_type": "code",
   "execution_count": 4,
   "metadata": {
    "scrolled": true
   },
   "outputs": [],
   "source": [
    "df_valid = df.drop(columns=2)"
   ]
  },
  {
   "cell_type": "code",
   "execution_count": 5,
   "metadata": {},
   "outputs": [
    {
     "data": {
      "text/plain": [
       "{' <=50K', ' >50K'}"
      ]
     },
     "execution_count": 5,
     "metadata": {},
     "output_type": "execute_result"
    }
   ],
   "source": [
    "set(df_valid[14])"
   ]
  },
  {
   "cell_type": "code",
   "execution_count": null,
   "metadata": {},
   "outputs": [],
   "source": [
    "df_dum = pd.get_dummies(df_valid)\n",
    "df_dum.head(1)"
   ]
  },
  {
   "cell_type": "code",
   "execution_count": 9,
   "metadata": {},
   "outputs": [
    {
     "data": {
      "text/plain": [
       "((32561, 107), (32561, 1), 0.2408095574460244)"
      ]
     },
     "execution_count": 9,
     "metadata": {},
     "output_type": "execute_result"
    }
   ],
   "source": [
    "x = np.array(df_dum.iloc[:, :-2]).astype(np.float32)\n",
    "y = np.array(df_dum.iloc[:, -1:])\n",
    "x.shape, y.shape, y.mean()"
   ]
  },
  {
   "cell_type": "code",
   "execution_count": null,
   "metadata": {},
   "outputs": [],
   "source": [
    "from sklearn.linear_model import LogisticRegression\n",
    "model = LogisticRegression().fit(x, y)\n",
    "print('accuracy', model.score(x, y))# 85%"
   ]
  },
  {
   "cell_type": "code",
   "execution_count": 24,
   "metadata": {},
   "outputs": [],
   "source": [
    "W1 = tf.Variable(tf.random_normal(shape=[107,1])) # X > out\n",
    "b1 = tf.Variable(tf.random_normal(shape=[1])) \n",
    "xn = x / np.max(x, axis=-1, keepdims=True)\n",
    "out = tf.sigmoid(tf.matmul(xn, W1) + b1)\n",
    "gt = tf.cast(y, tf.float32) #정답 ground_truth\n",
    "cost = - tf.reduce_mean(gt * tf.log(out) + (1-gt) * tf.log(1-out))\n",
    "train = tf.train.GradientDescentOptimizer(0.01).minimize(cost)\n",
    "accuracy = tf.reduce_mean(tf.cast(tf.equal(gt, tf.round(out)) ,tf.float32))\n",
    "sess = tf.Session()\n",
    "sess.run(tf.global_variables_initializer())\n",
    "cost_list = []\n",
    "accuracy_list = []"
   ]
  },
  {
   "cell_type": "code",
   "execution_count": 26,
   "metadata": {},
   "outputs": [
    {
     "data": {
      "text/plain": [
       "<matplotlib.legend.Legend at 0x21390940>"
      ]
     },
     "execution_count": 26,
     "metadata": {},
     "output_type": "execute_result"
    },
    {
     "data": {
      "image/png": "[encoded data removed]",
      "text/plain": [
       "<Figure size 432x288 with 1 Axes>"
      ]
     },
     "metadata": {
      "needs_background": "light"
     },
     "output_type": "display_data"
    }
   ],
   "source": [
    "for i in range(100):\n",
    "    _, c, a = sess.run([train, cost, accuracy])\n",
    "    cost_list.append(c)    \n",
    "    accuracy_list.append(a)\n",
    "plt.plot(cost_list, label='cost')\n",
    "plt.plot(accuracy_list, label='accuracy')\n",
    "plt.legend()"
   ]
  },
  {
   "cell_type": "code",
   "execution_count": null,
   "metadata": {},
   "outputs": [],
   "source": []
  }
 ],
 "metadata": {
  "kernelspec": {
   "display_name": "Python 3",
   "language": "python",
   "name": "python3"
  },
  "language_info": {
   "codemirror_mode": {
    "name": "ipython",
    "version": 3
   },
   "file_extension": ".py",
   "mimetype": "text/x-python",
   "name": "python",
   "nbconvert_exporter": "python",
   "pygments_lexer": "ipython3",
   "version": "3.7.3"
  }
 },
 "nbformat": 4,
 "nbformat_minor": 2
}
