{
 "cells": [
  {
   "cell_type": "markdown",
   "metadata": {},
   "source": [
    "# 분류\n",
    "#### 클래스가 2종류일 때는 2진 분류(binary classification), 다중 multi classification\n",
    "\n",
    "문제 : 예측 > 분류\n",
    "예 : 과체중 예측하기, 과체중일 확률이 0.6, 반올림(0.6) = 1, 클래스=1\n",
    "입력 : 몸무게와 키\n",
    "출력 : 클래스(과체중 1, 정상 0)"
   ]
  },
  {
   "cell_type": "code",
   "execution_count": 1,
   "metadata": {},
   "outputs": [],
   "source": [
    "import numpy as np"
   ]
  },
  {
   "cell_type": "code",
   "execution_count": 6,
   "metadata": {},
   "outputs": [],
   "source": [
    "x = [[55,160], [60,165], [65, 155], [70,180], [75,160]]\n",
    "y = [0, 0, 1, 0, 1]\n",
    "#선형함수 Y = WX + b,  X = [x1, x2], W = [w1, w2]\n",
    "# Y = w1x1 + w2x2 + b "
   ]
  },
  {
   "cell_type": "markdown",
   "metadata": {},
   "source": [
    "좋은 파라미터(w1,w2,b) 값을 찾는 방법 3가지\n",
    "1. greedy search (탐욕적 탐색), 모든 경우의 수를 다 대입해본다 (오래걸리는 문제)\n",
    "1. 정규방정식을 사용 : LinearRegression에서 구현되어 있습니다(메모리 부족문제)\n",
    "1. 경사하강법 : SGDRegressor 에서 구현되어 있습니다 (통계적 경사 하강법)\n",
    "   - 미분이 되는 식만 사용해야 합니다.   "
   ]
  },
  {
   "cell_type": "code",
   "execution_count": 13,
   "metadata": {},
   "outputs": [
    {
     "data": {
      "text/plain": [
       "(array([ 0.05381295, -0.04604317]), 4.453237410071944)"
      ]
     },
     "execution_count": 13,
     "metadata": {},
     "output_type": "execute_result"
    }
   ],
   "source": [
    "x = np.array(x)\n",
    "y = np.array(y)\n",
    "from sklearn.linear_model import LinearRegression\n",
    "model = LinearRegression().fit(x,y)\n",
    "model.coef_, model.intercept_"
   ]
  },
  {
   "cell_type": "markdown",
   "metadata": {},
   "source": [
    "## 과체중 = 몸무게 * 0.05 + 키 * -0.05 + 4.5"
   ]
  },
  {
   "cell_type": "code",
   "execution_count": 19,
   "metadata": {},
   "outputs": [
    {
     "data": {
      "text/plain": [
       "array([ 0.04604317,  0.08489209,  0.81438849, -0.0676259 ,  1.12230216])"
      ]
     },
     "execution_count": 19,
     "metadata": {},
     "output_type": "execute_result"
    }
   ],
   "source": [
    "#예측 =  w1 * x1 + x2 * x2 + b\n",
    "y_hat = np.sum(model.coef_ * x, axis=1) + model.intercept_\n",
    "y_hat"
   ]
  },
  {
   "cell_type": "code",
   "execution_count": 23,
   "metadata": {},
   "outputs": [
    {
     "data": {
      "text/plain": [
       "array([ 0.,  0.,  1., -0.,  1.])"
      ]
     },
     "execution_count": 23,
     "metadata": {},
     "output_type": "execute_result"
    }
   ],
   "source": [
    "np.round(y_hat)"
   ]
  },
  {
   "cell_type": "markdown",
   "metadata": {},
   "source": [
    "반올림은 미분이 안되기 때문에 경사하강법에서는 사용할 수 없습니다.\n",
    "그래서 반올림과 성격이 유사하면서 미분이 되는 로지스틱함수(시그모이드)를 사용합니다"
   ]
  },
  {
   "cell_type": "code",
   "execution_count": 38,
   "metadata": {},
   "outputs": [],
   "source": [
    "z = np.arange(-10,10,0.1)\n",
    "sigmoid = 1/ (1+ np.exp(-z))"
   ]
  },
  {
   "cell_type": "code",
   "execution_count": 39,
   "metadata": {},
   "outputs": [],
   "source": [
    "import matplotlib.pyplot as plt"
   ]
  },
  {
   "cell_type": "code",
   "execution_count": 40,
   "metadata": {},
   "outputs": [
    {
     "data": {
      "text/plain": [
       "<matplotlib.collections.PathCollection at 0xc1d9a20>"
      ]
     },
     "execution_count": 40,
     "metadata": {},
     "output_type": "execute_result"
    },
    {
     "data": {
      "image/png": "[encoded data removed]",
      "text/plain": [
       "<Figure size 432x288 with 1 Axes>"
      ]
     },
     "metadata": {
      "needs_background": "light"
     },
     "output_type": "display_data"
    }
   ],
   "source": [
    "plt.scatter(z, sigmoid)\n",
    "#plt.scatter(z, np.round(z))"
   ]
  },
  {
   "cell_type": "code",
   "execution_count": 42,
   "metadata": {},
   "outputs": [
    {
     "name": "stderr",
     "output_type": "stream",
     "text": [
      "C:\\ProgramData\\Anaconda3\\lib\\site-packages\\sklearn\\linear_model\\logistic.py:432: FutureWarning: Default solver will be changed to 'lbfgs' in 0.22. Specify a solver to silence this warning.\n",
      "  FutureWarning)\n"
     ]
    },
    {
     "data": {
      "text/plain": [
       "(array([[ 0.69926296, -0.2826264 ]]), array([0.01964337]))"
      ]
     },
     "execution_count": 42,
     "metadata": {},
     "output_type": "execute_result"
    }
   ],
   "source": [
    "from sklearn.linear_model import LogisticRegression\n",
    "model = LogisticRegression().fit(x,y)\n",
    "model.coef_, model.intercept_"
   ]
  },
  {
   "cell_type": "code",
   "execution_count": 43,
   "metadata": {},
   "outputs": [
    {
     "data": {
      "text/plain": [
       "array([-6.74111798, -4.6579352 ,  1.66464357, -1.90470163,  7.24414113])"
      ]
     },
     "execution_count": 43,
     "metadata": {},
     "output_type": "execute_result"
    }
   ],
   "source": [
    "y_hat = np.sum(model.coef_ * x, axis=1) + model.intercept_\n",
    "y_hat"
   ]
  },
  {
   "cell_type": "code",
   "execution_count": 45,
   "metadata": {},
   "outputs": [
    {
     "data": {
      "text/plain": [
       "array([0.00117993, 0.00939689, 0.84086036, 0.12957727, 0.99928616])"
      ]
     },
     "execution_count": 45,
     "metadata": {},
     "output_type": "execute_result"
    }
   ],
   "source": [
    "sigmoid = 1/ (1+ np.exp(-y_hat))\n",
    "sigmoid"
   ]
  },
  {
   "cell_type": "markdown",
   "metadata": {},
   "source": [
    "## 예측 LinearRegression : Y = WX + b\n",
    "## 분류 LogistRegression : Y = sigmoid(WX + b)\n",
    "그러므로 분류는 예측을 먼저 하고 나서 분류하는 것입니다"
   ]
  }
 ],
 "metadata": {
  "kernelspec": {
   "display_name": "Python 3",
   "language": "python",
   "name": "python3"
  },
  "language_info": {
   "codemirror_mode": {
    "name": "ipython",
    "version": 3
   },
   "file_extension": ".py",
   "mimetype": "text/x-python",
   "name": "python",
   "nbconvert_exporter": "python",
   "pygments_lexer": "ipython3",
   "version": "3.7.3"
  }
 },
 "nbformat": 4,
 "nbformat_minor": 2
}
