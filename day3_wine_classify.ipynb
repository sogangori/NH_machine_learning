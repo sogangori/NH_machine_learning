{
 "cells": [
  {
   "cell_type": "markdown",
   "metadata": {},
   "source": [
    "# 와인 원산지 분류하기\n",
    "\n",
    "13가지의 화학 성분 분석을 통해서 3군데의 경작지 중 어디에서 생상된 와인인지를 알아내는 분류 문제입니다"
   ]
  },
  {
   "cell_type": "markdown",
   "metadata": {},
   "source": [
    "# 단축키\n",
    "- 실행 : 특수키 + Enter\n",
    "- 이동 : 화살표 위아래\n",
    "- 명령모드(파란색 ESC) /수정모드(초록색 Enter)\n",
    "- 셀지우기 : X\n",
    "- 셀만들기 : B (below) 아래쪽에 셀 생성\n",
    "- 마크다운셀(M, 123456)/코드셀(Y)"
   ]
  },
  {
   "cell_type": "code",
   "execution_count": 5,
   "metadata": {},
   "outputs": [],
   "source": [
    "import pandas as pd\n",
    "import numpy as np  \n",
    "import matplotlib.pyplot as plt"
   ]
  },
  {
   "cell_type": "code",
   "execution_count": null,
   "metadata": {},
   "outputs": [],
   "source": [
    "#tab 자동완성, shift+tab 함수설명,  ? 함수 설명 탭 \n",
    "df = pd.read_csv('./datasets/wine.data', header=None)\n",
    "df.shape"
   ]
  },
  {
   "cell_type": "markdown",
   "metadata": {},
   "source": [
    "데이터 기본 분석\n",
    "- shape 형태\n",
    "- info():누락, 데이터 타입(.dtypes)\n",
    "- describe() : 통계치 (수치)\n",
    "- isna().sum().sum() : 누락 갯수 세기    > dropna() 누락행 버리기\n",
    "- 전체\n",
    "    - corr() 상관관계\n",
    "    - plotting.scatter_matrix 상관관계 그래프\n",
    "    - hist() 히스토그램\n",
    "    - plot() : 값의 단위가 달라서 보통 그래프가 잘 안보입니다\n",
    "    - boxplot() : 분포 한눈에 확인 \n",
    "- 개별적\n",
    "    - 수치형 : plot(), hist()\n",
    "    - 카테고리 : value_counts() >  pie(), bar(), barh()\n",
    "- 카테고리별로 분석\n",
    "    - groupby(컬럼).aggregate(['mean', 'max'])\n",
    "- 컬럼 2개의 관계\n",
    "    - scatter() 산점도 X, Y \n",
    "- 카테고리 원핫 인코딩\n",
    "- X, Y 분리\n",
    "  - 학습용/ 테스트(검증)용 분리\n",
    "- score 성능측정\n",
    "- 어떤 특징이 중요한가(계수가 크냐 작냐)\n",
    "  - 중요도 순으로 정렬, 값의 크기 확인"
   ]
  },
  {
   "cell_type": "markdown",
   "metadata": {},
   "source": [
    "df.head()"
   ]
  },
  {
   "cell_type": "markdown",
   "metadata": {},
   "source": [
    "df[0].unique(), set(df[0]) #중복되지 않는 값 확인 > 원산지가 확실하다"
   ]
  },
  {
   "cell_type": "code",
   "execution_count": null,
   "metadata": {},
   "outputs": [],
   "source": [
    "# 컬럼 이름 바꾸기\n",
    "col = ['Y', 'Alcohol','Malic acid','Ash','Alcalinity of ash','Magnesium','Total phenols', \n",
    "'Flavanoids','Nonflavanoid phenols','Proanthocyanins','Color intensity','Hue', \n",
    "'OD280/OD315 of diluted wines','Proline']\n",
    "short_col = ['Y', 'Alcohol','Malic','Ash','Alcalinity','Magnesium',' phenols', \n",
    "'Flavanoids','Nonflavanoid phenols','Proanthocyanins','Color intensity','Hue', \n",
    "'diluted','Proline']\n",
    "len(df.columns), len(col)"
   ]
  },
  {
   "cell_type": "code",
   "execution_count": null,
   "metadata": {},
   "outputs": [],
   "source": [
    "df.columns = short_col\n",
    "df.head()"
   ]
  },
  {
   "cell_type": "code",
   "execution_count": null,
   "metadata": {},
   "outputs": [],
   "source": [
    "df.describe() #타입, 통계"
   ]
  },
  {
   "cell_type": "code",
   "execution_count": null,
   "metadata": {},
   "outputs": [],
   "source": [
    "#누락 확인\n",
    "df.isna().sum().sum()"
   ]
  },
  {
   "cell_type": "code",
   "execution_count": null,
   "metadata": {},
   "outputs": [],
   "source": [
    "#상관관계\n",
    "df.corr()"
   ]
  },
  {
   "cell_type": "code",
   "execution_count": null,
   "metadata": {},
   "outputs": [],
   "source": [
    "a = pd.plotting.scatter_matrix(df, figsize=(20,20))\n",
    "#대각 : 히스토그램\n",
    "#컬럼 간의 산점도(scatter)"
   ]
  },
  {
   "cell_type": "code",
   "execution_count": null,
   "metadata": {},
   "outputs": [],
   "source": [
    "#df.drop(columns=['Ash', 'Malic']).plot() #값의 스케일이 서로 달라서 그래프 표현이 잘 안됩니다\n",
    "df['Ash'].plot()"
   ]
  },
  {
   "cell_type": "code",
   "execution_count": null,
   "metadata": {},
   "outputs": [],
   "source": [
    "df.boxplot() # 이상치가 있는지를 확인합니다"
   ]
  },
  {
   "cell_type": "code",
   "execution_count": 43,
   "metadata": {},
   "outputs": [
    {
     "data": {
      "text/plain": [
       "<matplotlib.axes._subplots.AxesSubplot at 0x1ced6ef0>"
      ]
     },
     "execution_count": 43,
     "metadata": {},
     "output_type": "execute_result"
    },
    {
     "data": {
      "image/png": "[encoded data removed]",
      "text/plain": [
       "<Figure size 432x288 with 1 Axes>"
      ]
     },
     "metadata": {
      "needs_background": "light"
     },
     "output_type": "display_data"
    }
   ],
   "source": [
    "df['Y'].plot() # 1,2,3 이 사실은 수치가 아니고 원산지 카테고리입니다."
   ]
  },
  {
   "cell_type": "code",
   "execution_count": 45,
   "metadata": {},
   "outputs": [
    {
     "data": {
      "text/plain": [
       "<matplotlib.axes._subplots.AxesSubplot at 0x1ce63e10>"
      ]
     },
     "execution_count": 45,
     "metadata": {},
     "output_type": "execute_result"
    },
    {
     "data": {
      "image/png": "[encoded data removed]",
      "text/plain": [
       "<Figure size 432x288 with 1 Axes>"
      ]
     },
     "metadata": {
      "needs_background": "light"
     },
     "output_type": "display_data"
    }
   ],
   "source": [
    "df['Alcohol'].hist()"
   ]
  },
  {
   "cell_type": "code",
   "execution_count": 53,
   "metadata": {},
   "outputs": [
    {
     "data": {
      "text/plain": [
       "<matplotlib.axes._subplots.AxesSubplot at 0x1d1c55f8>"
      ]
     },
     "execution_count": 53,
     "metadata": {},
     "output_type": "execute_result"
    },
    {
     "data": {
      "image/png": "[encoded data removed]",
      "text/plain": [
       "<Figure size 144x144 with 1 Axes>"
      ]
     },
     "metadata": {
      "needs_background": "light"
     },
     "output_type": "display_data"
    }
   ],
   "source": [
    "#카테고리 타입에 대해서\n",
    "df['Y'].value_counts().plot.barh(figsize=(2,2)) #bar, barh"
   ]
  },
  {
   "cell_type": "code",
   "execution_count": 60,
   "metadata": {},
   "outputs": [
    {
     "data": {
      "text/html": [
       "<div>\n",
       "<style scoped>\n",
       "    .dataframe tbody tr th:only-of-type {\n",
       "        vertical-align: middle;\n",
       "    }\n",
       "\n",
       "    .dataframe tbody tr th {\n",
       "        vertical-align: top;\n",
       "    }\n",
       "\n",
       "    .dataframe thead th {\n",
       "        text-align: right;\n",
       "    }\n",
       "</style>\n",
       "<table border=\"1\" class=\"dataframe\">\n",
       "  <thead>\n",
       "    <tr style=\"text-align: right;\">\n",
       "      <th></th>\n",
       "      <th>Alcohol</th>\n",
       "      <th>Malic</th>\n",
       "      <th>Ash</th>\n",
       "      <th>Alcalinity</th>\n",
       "      <th>Magnesium</th>\n",
       "      <th>phenols</th>\n",
       "      <th>Flavanoids</th>\n",
       "      <th>Nonflavanoid phenols</th>\n",
       "      <th>Proanthocyanins</th>\n",
       "      <th>Color intensity</th>\n",
       "      <th>Hue</th>\n",
       "      <th>diluted</th>\n",
       "      <th>Proline</th>\n",
       "    </tr>\n",
       "    <tr>\n",
       "      <th>Y</th>\n",
       "      <th></th>\n",
       "      <th></th>\n",
       "      <th></th>\n",
       "      <th></th>\n",
       "      <th></th>\n",
       "      <th></th>\n",
       "      <th></th>\n",
       "      <th></th>\n",
       "      <th></th>\n",
       "      <th></th>\n",
       "      <th></th>\n",
       "      <th></th>\n",
       "      <th></th>\n",
       "    </tr>\n",
       "  </thead>\n",
       "  <tbody>\n",
       "    <tr>\n",
       "      <th>1</th>\n",
       "      <td>13.744746</td>\n",
       "      <td>2.010678</td>\n",
       "      <td>2.455593</td>\n",
       "      <td>17.037288</td>\n",
       "      <td>106.338983</td>\n",
       "      <td>2.840169</td>\n",
       "      <td>2.982373</td>\n",
       "      <td>0.290000</td>\n",
       "      <td>1.899322</td>\n",
       "      <td>5.528305</td>\n",
       "      <td>1.062034</td>\n",
       "      <td>3.157797</td>\n",
       "      <td>1115.711864</td>\n",
       "    </tr>\n",
       "    <tr>\n",
       "      <th>2</th>\n",
       "      <td>12.278732</td>\n",
       "      <td>1.932676</td>\n",
       "      <td>2.244789</td>\n",
       "      <td>20.238028</td>\n",
       "      <td>94.549296</td>\n",
       "      <td>2.258873</td>\n",
       "      <td>2.080845</td>\n",
       "      <td>0.363662</td>\n",
       "      <td>1.630282</td>\n",
       "      <td>3.086620</td>\n",
       "      <td>1.056282</td>\n",
       "      <td>2.785352</td>\n",
       "      <td>519.507042</td>\n",
       "    </tr>\n",
       "    <tr>\n",
       "      <th>3</th>\n",
       "      <td>13.153750</td>\n",
       "      <td>3.333750</td>\n",
       "      <td>2.437083</td>\n",
       "      <td>21.416667</td>\n",
       "      <td>99.312500</td>\n",
       "      <td>1.678750</td>\n",
       "      <td>0.781458</td>\n",
       "      <td>0.447500</td>\n",
       "      <td>1.153542</td>\n",
       "      <td>7.396250</td>\n",
       "      <td>0.682708</td>\n",
       "      <td>1.683542</td>\n",
       "      <td>629.895833</td>\n",
       "    </tr>\n",
       "  </tbody>\n",
       "</table>\n",
       "</div>"
      ],
      "text/plain": [
       "     Alcohol     Malic       Ash  Alcalinity   Magnesium   phenols  \\\n",
       "Y                                                                    \n",
       "1  13.744746  2.010678  2.455593   17.037288  106.338983  2.840169   \n",
       "2  12.278732  1.932676  2.244789   20.238028   94.549296  2.258873   \n",
       "3  13.153750  3.333750  2.437083   21.416667   99.312500  1.678750   \n",
       "\n",
       "   Flavanoids  Nonflavanoid phenols  Proanthocyanins  Color intensity  \\\n",
       "Y                                                                       \n",
       "1    2.982373              0.290000         1.899322         5.528305   \n",
       "2    2.080845              0.363662         1.630282         3.086620   \n",
       "3    0.781458              0.447500         1.153542         7.396250   \n",
       "\n",
       "        Hue   diluted      Proline  \n",
       "Y                                   \n",
       "1  1.062034  3.157797  1115.711864  \n",
       "2  1.056282  2.785352   519.507042  \n",
       "3  0.682708  1.683542   629.895833  "
      ]
     },
     "execution_count": 60,
     "metadata": {},
     "output_type": "execute_result"
    }
   ],
   "source": [
    "#카테고리 그룹 별로 분석\n",
    "#df.groupby(by='Y').mean()\n",
    "df.groupby(by='Y').aggregate('mean')\n",
    "#df.groupby(by='Y').aggregate(['mean', 'max'])\n",
    "#예: (남녀별 / 국가별).mean()   (영화제작사별 / 장르)[평점].mean()\n",
    "#df.groupby(by=['Y' ,'Ash'] ).aggregate(['mean', 'max'])"
   ]
  },
  {
   "cell_type": "markdown",
   "metadata": {},
   "source": [
    " 분류 모델 머신러닝 알고리즘을 선택해서 학습시키고 성능 측정\n",
    "- (실수값을) 예측:  예: 내일의 온도     : Regression\n",
    "- (카테고리를) 분류 :  예: 이 와인의 원산지가 A,B,C 중 어디냐 : Classification"
   ]
  },
  {
   "cell_type": "code",
   "execution_count": 62,
   "metadata": {},
   "outputs": [],
   "source": [
    "from sklearn.linear_model import LogisticRegression"
   ]
  },
  {
   "cell_type": "code",
   "execution_count": 65,
   "metadata": {},
   "outputs": [],
   "source": [
    "X = df.drop(columns='Y')\n",
    "Y = df['Y']"
   ]
  },
  {
   "cell_type": "code",
   "execution_count": 67,
   "metadata": {},
   "outputs": [
    {
     "name": "stderr",
     "output_type": "stream",
     "text": [
      "C:\\ProgramData\\Anaconda3\\lib\\site-packages\\sklearn\\linear_model\\logistic.py:432: FutureWarning: Default solver will be changed to 'lbfgs' in 0.22. Specify a solver to silence this warning.\n",
      "  FutureWarning)\n",
      "C:\\ProgramData\\Anaconda3\\lib\\site-packages\\sklearn\\linear_model\\logistic.py:469: FutureWarning: Default multi_class will be changed to 'auto' in 0.22. Specify the multi_class option to silence this warning.\n",
      "  \"this warning.\", FutureWarning)\n"
     ]
    },
    {
     "data": {
      "text/plain": [
       "0.9719101123595506"
      ]
     },
     "execution_count": 67,
     "metadata": {},
     "output_type": "execute_result"
    }
   ],
   "source": [
    "model = LogisticRegression().fit(X,Y) #피팅 = 학습\n",
    "model.score(X,Y) # 분류 정확도(accuracy)"
   ]
  },
  {
   "cell_type": "markdown",
   "metadata": {},
   "source": [
    "# KNN - K 최근접 이웃 모델\n",
    "분류와 예측에 사용할 수 있는 모델로 입력데이터와 가장 값이 가까운 k 개의 샘플을 찾아서 그 샘플들의 평균으로 목표를 예측합니다"
   ]
  },
  {
   "cell_type": "markdown",
   "metadata": {},
   "source": [
    "알콜 도수로 와인 원산지를 예측하겠다"
   ]
  },
  {
   "cell_type": "code",
   "execution_count": 71,
   "metadata": {},
   "outputs": [],
   "source": [
    "x = df['Alcohol']\n",
    "y = df['Y']"
   ]
  },
  {
   "cell_type": "code",
   "execution_count": 76,
   "metadata": {},
   "outputs": [],
   "source": [
    "from sklearn.neighbors import KNeighborsClassifier"
   ]
  },
  {
   "cell_type": "code",
   "execution_count": 84,
   "metadata": {},
   "outputs": [
    {
     "data": {
      "text/plain": [
       "0.8876404494382022"
      ]
     },
     "execution_count": 84,
     "metadata": {},
     "output_type": "execute_result"
    }
   ],
   "source": [
    "# 입력데이터 X 는 2차원이어야 합니다 (데이터갯수, 특징수) \n",
    "# 출력데이터 Y 는 1차원, 2차원 모두 가능합니다 \n",
    "x_2d = np.array(x).reshape(-1, 1)\n",
    "model = KNeighborsClassifier(n_neighbors=1).fit(x_2d,y)\n",
    "model.score(x_2d, y) #분류 정확도"
   ]
  },
  {
   "cell_type": "code",
   "execution_count": 90,
   "metadata": {
    "scrolled": true
   },
   "outputs": [
    {
     "data": {
      "text/plain": [
       "array([1, 1, 2, 2, 2, 2], dtype=int64)"
      ]
     },
     "execution_count": 90,
     "metadata": {},
     "output_type": "execute_result"
    }
   ],
   "source": [
    "# X 는 (6, 1) \n",
    "model.predict([[15],[14],[13],[12],[11],[10]]) # 알콜 11도의 원산지는 ? "
   ]
  },
  {
   "cell_type": "code",
   "execution_count": 145,
   "metadata": {},
   "outputs": [
    {
     "data": {
      "text/plain": [
       "<matplotlib.axes._subplots.AxesSubplot at 0x27e6e9e8>"
      ]
     },
     "execution_count": 145,
     "metadata": {},
     "output_type": "execute_result"
    },
    {
     "data": {
      "image/png": "[encoded data removed]",
      "text/plain": [
       "<Figure size 432x432 with 2 Axes>"
      ]
     },
     "metadata": {
      "needs_background": "light"
     },
     "output_type": "display_data"
    }
   ],
   "source": [
    "df.plot.scatter(x='Hue', y='Alcohol', c='Y', colormap='viridis', figsize=(6,6))"
   ]
  },
  {
   "cell_type": "code",
   "execution_count": 143,
   "metadata": {},
   "outputs": [
    {
     "data": {
      "text/plain": [
       "0.9325842696629213"
      ]
     },
     "execution_count": 143,
     "metadata": {},
     "output_type": "execute_result"
    }
   ],
   "source": [
    "X = df[['Hue','Alcohol']] # Hue = X[0]= x0, 알콜 = X[1] = x1\n",
    "Y = df['Y']\n",
    "model = KNeighborsClassifier(5).fit(X,Y)\n",
    "model.score(X,Y)"
   ]
  },
  {
   "cell_type": "code",
   "execution_count": 144,
   "metadata": {},
   "outputs": [
    {
     "data": {
      "text/plain": [
       "array([3, 2, 1, 1], dtype=int64)"
      ]
     },
     "execution_count": 144,
     "metadata": {},
     "output_type": "execute_result"
    }
   ],
   "source": [
    "test = [[0.5, 14], [1.5, 12], [0.9, 14], [0.9, 15]]\n",
    "model.predict(test)"
   ]
  },
  {
   "cell_type": "code",
   "execution_count": 131,
   "metadata": {},
   "outputs": [
    {
     "data": {
      "text/plain": [
       "Hue         0.957449\n",
       "Alcohol    13.000618\n",
       "dtype: float64"
      ]
     },
     "execution_count": 131,
     "metadata": {},
     "output_type": "execute_result"
    }
   ],
   "source": [
    "X.mean()"
   ]
  },
  {
   "cell_type": "code",
   "execution_count": null,
   "metadata": {},
   "outputs": [],
   "source": []
  }
 ],
 "metadata": {
  "kernelspec": {
   "display_name": "Python 3",
   "language": "python",
   "name": "python3"
  },
  "language_info": {
   "codemirror_mode": {
    "name": "ipython",
    "version": 3
   },
   "file_extension": ".py",
   "mimetype": "text/x-python",
   "name": "python",
   "nbconvert_exporter": "python",
   "pygments_lexer": "ipython3",
   "version": "3.7.3"
  }
 },
 "nbformat": 4,
 "nbformat_minor": 2
}
