{
 "cells": [
  {
   "cell_type": "markdown",
   "metadata": {},
   "source": [
    "# 단축키\n",
    "\n",
    "- 셀간 이동 : 위 아래 화살표\n",
    "- 편집 모드/명령 모드 전환 : Enter(편집 프롬프트), Esc(프롬프트 사라짐)\n",
    "- 실행 : 특수키(Shift/Alt/Ctrl) + Enter \n",
    "- 셀 지우기 : 명령모드에서 x\n",
    "- 셀 만들기 : 명령모드에서 b(아래에 만들어짐 below)\n",
    "- 추가 코드셀/마크다운셀 : y, m(markdown), 123456"
   ]
  },
  {
   "cell_type": "markdown",
   "metadata": {},
   "source": [
    "## 개발팁\n",
    "- 자동완성, 함수 검색시 : tab\n",
    "- 함수 도움말 : shift+tab\n",
    "- 함수 도움말을 하단 탭으로 : np.arange?\n",
    "- 커맨드 명령 : !명령, 예) !dir, !pip install pandas"
   ]
  },
  {
   "cell_type": "markdown",
   "metadata": {},
   "source": [
    "## 머신러닝 과정\n",
    "1. 데이터획득\n",
    "1. 정제(cleaning) : 누락데이터, 이상치 . 안하면 fit 불가능하거나 성능 하락\n",
    "1. 데이터분석\n",
    "   - corr() 상관관계로 fit이 가능한지 확인\n",
    "   - 어떤 모델이 적절한가, 어떻게 모델링을 할까\n",
    "1. 입력 X, 출력 Y 분리\n",
    "1. 학습용/검증용 분리\n",
    "1. 모델선택후 학습용 데이터로 학습\n",
    "1. 성능 측정 (예측:결정계수, 분류:정확도)\n",
    "1. 그래프 시각화, 모델이 어떻게 예측했는지를 분석"
   ]
  },
  {
   "cell_type": "markdown",
   "metadata": {},
   "source": [
    "### 2가지 종류의 동물 분류(2진 분류) 를 구현\n",
    "1. 개, 고양이  \n",
    "1. 새\n",
    "1. 특징 : 다리 수, 꼬리 유무 "
   ]
  },
  {
   "cell_type": "markdown",
   "metadata": {},
   "source": [
    "### 선형 모델 : 선형 방정식으로 X, Y 관계를 표현하는 모델\n",
    "- 선형 방정식이란 \n",
    "#### 곱하기와 더하기만 사용하는 방정식\n",
    "##### LinearRegression: Y = WX+b ,   X=(x_1,x_2,x_n), W=(w_1,w_2,w_n), n개의 특징\n",
    "##### LogistRegression: Y = sigmoid(WX+b) , \n",
    "###### sigmoid=1/(1+exp(-z)) 출력 [0,1], 반올림 함수와 유사한 형태, exp:지수함수"
   ]
  },
  {
   "cell_type": "code",
   "execution_count": 4,
   "metadata": {},
   "outputs": [],
   "source": [
    "import numpy as np\n",
    "import tensorflow as tf"
   ]
  },
  {
   "cell_type": "code",
   "execution_count": 19,
   "metadata": {},
   "outputs": [],
   "source": [
    "x = [[4,1],[4,1], [2,1]]\n",
    "y = [0, 0, 1]"
   ]
  },
  {
   "cell_type": "code",
   "execution_count": 24,
   "metadata": {},
   "outputs": [],
   "source": [
    "from sklearn.linear_model import LogisticRegression, LinearRegression"
   ]
  },
  {
   "cell_type": "code",
   "execution_count": 25,
   "metadata": {},
   "outputs": [
    {
     "data": {
      "text/plain": [
       "(array([-0.5,  0. ]), 2.000000000000001, 1.0)"
      ]
     },
     "execution_count": 25,
     "metadata": {},
     "output_type": "execute_result"
    }
   ],
   "source": [
    "model = LinearRegression().fit(x,y)\n",
    "model.coef_, model.intercept_, model.score(x,y)#결정 계수"
   ]
  },
  {
   "cell_type": "code",
   "execution_count": 27,
   "metadata": {},
   "outputs": [
    {
     "data": {
      "text/plain": [
       "array([0., 0., 1.])"
      ]
     },
     "execution_count": 27,
     "metadata": {},
     "output_type": "execute_result"
    }
   ],
   "source": [
    "# Y = -0.5 * 다리갯수 + 0 * 꼬리 + 2\n",
    "np.sum(model.coef_ * x, axis=1) + model.intercept_"
   ]
  },
  {
   "cell_type": "code",
   "execution_count": 23,
   "metadata": {},
   "outputs": [
    {
     "name": "stderr",
     "output_type": "stream",
     "text": [
      "C:\\ProgramData\\Anaconda3\\lib\\site-packages\\sklearn\\linear_model\\logistic.py:432: FutureWarning: Default solver will be changed to 'lbfgs' in 0.22. Specify a solver to silence this warning.\n",
      "  FutureWarning)\n"
     ]
    },
    {
     "data": {
      "text/plain": [
       "(array([[-0.4337917 ,  0.19915754]]), array([0.19915754]), 0.6666666666666666)"
      ]
     },
     "execution_count": 23,
     "metadata": {},
     "output_type": "execute_result"
    }
   ],
   "source": [
    "model = LogisticRegression().fit(x,y)\n",
    "model.coef_, model.intercept_, model.score(x,y)#정확도"
   ]
  },
  {
   "cell_type": "code",
   "execution_count": 602,
   "metadata": {},
   "outputs": [],
   "source": [
    "# LinearRegression 을 구현하자\n",
    "w = tf.Variable([0.1, 0.1]) #2개의 초기값 \n",
    "b = tf.Variable(0.0) \n",
    "#wx = tf.matmul(tf.reshape(w, [1,2]), tf.transpose(tf.cast(x, tf.float32), [1,0]))\n",
    "h = tf.reduce_sum(w * tf.cast(x, tf.float32), axis=1) + b # 타입이 동일해야 연산가능\n",
    "#h = tf.reduce_sum(w * tf.cast(x, tf.float32), axis=1) + b # 타입이 동일해야 연산가능\n",
    "cost = tf.reduce_mean(tf.square(h - y)) # 오차 MSE : MeanSquareError\n",
    "opt = tf.train.GradientDescentOptimizer(0.01)\n",
    "trainOperation = opt.minimize(cost)\n",
    "sess = tf.Session()\n",
    "sess.run(tf.global_variables_initializer()) # 모든 Variable 초기화"
   ]
  },
  {
   "cell_type": "code",
   "execution_count": 603,
   "metadata": {},
   "outputs": [
    {
     "data": {
      "text/plain": [
       "(0.0016424201, array([0.01831782, 0.01831782, 0.93476063], dtype=float32))"
      ]
     },
     "execution_count": 603,
     "metadata": {},
     "output_type": "execute_result"
    }
   ],
   "source": [
    "for i in range(1000): # 에포크 \n",
    "    _, _c, _h = sess.run([trainOperation, cost, h]) # fit\n",
    "_c, _h"
   ]
  },
  {
   "cell_type": "markdown",
   "metadata": {},
   "source": [
    "## Y = wx + b = h(x)    : h 는 함수 h(x) = wx + b\n",
    "### h(x) = transpose(w==theta) . x  ( 중간 점은 행렬 곱셈 ) \n",
    "\n",
    "- 총 급여 계산하기\n",
    "- 평일에 일하면 시급 1만원\n",
    "- 주말에 일하면 시급 1만 2천원\n",
    "- 3사람이 있습니다\n",
    "##  [10, 5]   : 평일 10시간, 주말 5시간 일했습니다"
   ]
  },
  {
   "cell_type": "code",
   "execution_count": 609,
   "metadata": {},
   "outputs": [],
   "source": [
    "x1 = [10, 5] \n",
    "x2 = [20, 10]\n",
    "x3 = [30, 15]\n",
    "X = [x1, x2, x3]\n",
    "w = [10000, 12000]\n",
    "x1 = np.array(x1)\n",
    "x2 = np.array(x2)\n",
    "x3 = np.array(x3)\n",
    "X = np.array(X)\n",
    "w = np.array(w)"
   ]
  },
  {
   "cell_type": "markdown",
   "metadata": {},
   "source": [
    "## 위 세사람의 총 급여를 구하세요\n",
    "#### 총 급여 = 시급(theta) * 일한 시간(x)"
   ]
  },
  {
   "cell_type": "code",
   "execution_count": 612,
   "metadata": {},
   "outputs": [
    {
     "data": {
      "text/plain": [
       "array([160000, 320000, 480000])"
      ]
     },
     "execution_count": 612,
     "metadata": {},
     "output_type": "execute_result"
    }
   ],
   "source": [
    "np.sum(w * X, axis=1)"
   ]
  },
  {
   "cell_type": "code",
   "execution_count": 613,
   "metadata": {
    "scrolled": true
   },
   "outputs": [
    {
     "data": {
      "text/plain": [
       "((2,), (3, 2))"
      ]
     },
     "execution_count": 613,
     "metadata": {},
     "output_type": "execute_result"
    }
   ],
   "source": [
    "w.shape, X.shape"
   ]
  },
  {
   "cell_type": "code",
   "execution_count": 618,
   "metadata": {},
   "outputs": [
    {
     "data": {
      "text/plain": [
       "array([160000, 320000, 480000])"
      ]
     },
     "execution_count": 618,
     "metadata": {},
     "output_type": "execute_result"
    }
   ],
   "source": [
    "np.matmul(X, w)"
   ]
  },
  {
   "cell_type": "code",
   "execution_count": 619,
   "metadata": {},
   "outputs": [
    {
     "data": {
      "text/plain": [
       "array([160000, 320000, 480000])"
      ]
     },
     "execution_count": 619,
     "metadata": {},
     "output_type": "execute_result"
    }
   ],
   "source": [
    "np.matmul(w, np.transpose(X, [1,0]))"
   ]
  },
  {
   "cell_type": "code",
   "execution_count": 622,
   "metadata": {},
   "outputs": [
    {
     "data": {
      "text/plain": [
       "array([[10,  5],\n",
       "       [20, 10],\n",
       "       [30, 15]])"
      ]
     },
     "execution_count": 622,
     "metadata": {},
     "output_type": "execute_result"
    }
   ],
   "source": [
    "X"
   ]
  },
  {
   "cell_type": "code",
   "execution_count": 623,
   "metadata": {},
   "outputs": [
    {
     "data": {
      "text/plain": [
       "array([[10, 20, 30],\n",
       "       [ 5, 10, 15]])"
      ]
     },
     "execution_count": 623,
     "metadata": {},
     "output_type": "execute_result"
    }
   ],
   "source": [
    "np.transpose(X, [1,0]) # 원래 [0, 1] 축인데 그것을 [1, 0] 으로 바꿔라"
   ]
  },
  {
   "cell_type": "markdown",
   "metadata": {},
   "source": [
    "## 정규방정식을 구현해보자"
   ]
  },
  {
   "cell_type": "code",
   "execution_count": 628,
   "metadata": {},
   "outputs": [],
   "source": [
    "import matplotlib.pyplot as plt"
   ]
  },
  {
   "cell_type": "code",
   "execution_count": 751,
   "metadata": {},
   "outputs": [],
   "source": [
    "x = 2 * np.random.rand(100, 1) # (100,1) 형태의 가우시안 랜덤 값 생성"
   ]
  },
  {
   "cell_type": "code",
   "execution_count": 752,
   "metadata": {},
   "outputs": [],
   "source": [
    "y = 4 + 3 * x + np.random.rand(100, 1)"
   ]
  },
  {
   "cell_type": "code",
   "execution_count": 753,
   "metadata": {},
   "outputs": [
    {
     "data": {
      "text/plain": [
       "((100, 2), (100, 1))"
      ]
     },
     "execution_count": 753,
     "metadata": {},
     "output_type": "execute_result"
    }
   ],
   "source": [
    "one = np.ones_like(x)\n",
    "xx = np.concatenate((x,one), axis=1)\n",
    "xx.shape, y.shape"
   ]
  },
  {
   "cell_type": "code",
   "execution_count": 754,
   "metadata": {},
   "outputs": [
    {
     "data": {
      "text/plain": [
       "array([[3.00686201],\n",
       "       [4.46171142]])"
      ]
     },
     "execution_count": 754,
     "metadata": {},
     "output_type": "execute_result"
    }
   ],
   "source": [
    "#theta = np.matmul(np.matmul(np.linalg.inv(np.matmul(xx.T, xx)) , xx.T), y)\n",
    "theta = np.linalg.inv(xx.T.dot(xx)).dot(xx.T).dot(y)\n",
    "theta"
   ]
  },
  {
   "cell_type": "code",
   "execution_count": null,
   "metadata": {},
   "outputs": [],
   "source": [
    "plt.scatter(x,y,s=5)\n",
    "plt.xlabel('X')\n",
    "plt.ylabel('Y')\n",
    "_x =  np.arange(0,2,0.01)\n",
    "_y =  theta[0,0] * _x + theta[1,0] #.dot\n",
    "plt.scatter(_x, _y, s=1)"
   ]
  },
  {
   "cell_type": "markdown",
   "metadata": {},
   "source": [
    "## 경사하강법을 직접 구현하자\n",
    "#### Y = w x  + b(0) 에서 W 를 경사하강법으로 fit 하기"
   ]
  },
  {
   "cell_type": "code",
   "execution_count": 756,
   "metadata": {},
   "outputs": [],
   "source": [
    "x = 2 * np.random.rand(100, 1) # (100,1) 형태의 가우시안 랜덤 값 생성\n",
    "y = 4 + 3 * x + np.random.rand(100, 1)"
   ]
  },
  {
   "cell_type": "code",
   "execution_count": 758,
   "metadata": {},
   "outputs": [
    {
     "data": {
      "text/plain": [
       "<matplotlib.collections.PathCollection at 0x194e2e48>"
      ]
     },
     "execution_count": 758,
     "metadata": {},
     "output_type": "execute_result"
    },
    {
     "data": {
      "image/png": "[encoded data removed]",
      "text/plain": [
       "<Figure size 432x288 with 1 Axes>"
      ]
     },
     "metadata": {
      "needs_background": "light"
     },
     "output_type": "display_data"
    }
   ],
   "source": [
    "plt.scatter(x,y)"
   ]
  },
  {
   "cell_type": "code",
   "execution_count": 773,
   "metadata": {},
   "outputs": [
    {
     "data": {
      "text/plain": [
       "<matplotlib.legend.Legend at 0x19aed6d8>"
      ]
     },
     "execution_count": 773,
     "metadata": {},
     "output_type": "execute_result"
    },
    {
     "data": {
      "image/png": "[encoded data removed]",
      "text/plain": [
       "<Figure size 432x288 with 1 Axes>"
      ]
     },
     "metadata": {
      "needs_background": "light"
     },
     "output_type": "display_data"
    }
   ],
   "source": [
    "w = 1.5\n",
    "h = w * x\n",
    "cost = np.mean((h - y)**2)\n",
    "plt.title('cost '+ str(cost))\n",
    "plt.scatter(x, h, label='H')\n",
    "plt.scatter(x, y, label='Y')\n",
    "plt.legend()"
   ]
  },
  {
   "cell_type": "markdown",
   "metadata": {},
   "source": [
    "#### cost = np.mean((h - y)**2)\n",
    "#### cost = np.mean(((w*x + b) - y)**2)\n",
    "#### cost = np.mean((w*x+b - y)**2)\n",
    "### cost = (w*x +b - y)**2\n",
    "\n",
    "### cost를 w로 미분\n",
    "####  cost = f(g(x)) ,  g(x)  = w*x+b-y, f(x) = g(x)**2\n",
    "####  f(g(x)) 를 x로 미분 = f' *  g(x)          * g'(x)\n",
    "####                                   2 *  (w*x+b-y) * x \n",
    "\n",
    "### cost를 b 로 미분\n",
    "####  cost = f(g(x)) ,  g(x)  = w*x+b-y, f(x) = g(x)**2\n",
    "####   f' * g(x)        * g'(x) \n",
    "#####  2 * (w*x+b-y) * 1\n",
    "정규방정식, 그리드서치, 경사하강법"
   ]
  },
  {
   "cell_type": "code",
   "execution_count": 3219,
   "metadata": {},
   "outputs": [],
   "source": [
    "w = 100\n",
    "b = 100"
   ]
  },
  {
   "cell_type": "code",
   "execution_count": 3542,
   "metadata": {},
   "outputs": [
    {
     "data": {
      "text/plain": [
       "(2.901079742764321, 4.579110487287256)"
      ]
     },
     "execution_count": 3542,
     "metadata": {},
     "output_type": "execute_result"
    }
   ],
   "source": [
    "learning_rate = 0.1\n",
    "gradient_w = np.mean(2 * (w*x+b-y) * x) # 각 샘플들의 경사의 평균\n",
    "gradient_b = np.mean(2 * (w*x+b-y) * 1)\n",
    "w = w - learning_rate * gradient_w\n",
    "b = b - learning_rate * gradient_b\n",
    "w, b"
   ]
  },
  {
   "cell_type": "code",
   "execution_count": 3543,
   "metadata": {
    "scrolled": true
   },
   "outputs": [
    {
     "data": {
      "text/plain": [
       "<matplotlib.legend.Legend at 0x238c0cc0>"
      ]
     },
     "execution_count": 3543,
     "metadata": {},
     "output_type": "execute_result"
    },
    {
     "data": {
      "image/png": "[encoded data removed]",
      "text/plain": [
       "<Figure size 432x288 with 1 Axes>"
      ]
     },
     "metadata": {
      "needs_background": "light"
     },
     "output_type": "display_data"
    }
   ],
   "source": [
    "h = w * x + b\n",
    "cost = np.mean((h - y)**2)\n",
    "plt.title('cost '+ str(cost)+' w '+ str(w))\n",
    "plt.scatter(x, h, label='H')\n",
    "plt.scatter(x, y, label='Y')\n",
    "plt.legend()"
   ]
  },
  {
   "cell_type": "markdown",
   "metadata": {},
   "source": [
    "##  2차 방정식으로 해보자"
   ]
  },
  {
   "cell_type": "code",
   "execution_count": 6429,
   "metadata": {},
   "outputs": [],
   "source": [
    "x1 = 5 * np.random.rand(100, 1) / 5 # 정규화\n",
    "x2 = 1 * np.random.rand(100, 1)\n",
    "noize = np.random.rand(100, 1)\n",
    "y = 3 * x1**2 + 2 * x2 + noize"
   ]
  },
  {
   "cell_type": "markdown",
   "metadata": {},
   "source": [
    "## x1, x2, y의 관계를 방정식으로 표현하겠다\n",
    "#### 비선형방정식 y = w1 * x1**2 + w2 * x2 + b"
   ]
  },
  {
   "cell_type": "markdown",
   "metadata": {},
   "source": [
    "- cost : ((h - y)**2) 를 w1 으로 미분하자\n",
    "  cost = (h-y)**2 , z = g(w1) = h-y=w1*x1**2+w2*x2+b, f(z) = z**2\n",
    "  (2*z)*(x1**2)\n",
    "- cost : ((h - y)**2) 를 w2 으로 미분하자\n",
    "  (2*z)*(x2)\n",
    "- cost : ((h - y)**2) 를 b 으로 미분하자\n",
    "  (2*z)* 1  "
   ]
  },
  {
   "cell_type": "code",
   "execution_count": 6430,
   "metadata": {},
   "outputs": [
    {
     "data": {
      "text/plain": [
       "(0.9952318254739654, 0.9822715148134251)"
      ]
     },
     "execution_count": 6430,
     "metadata": {},
     "output_type": "execute_result"
    }
   ],
   "source": [
    "np.max(x1), np.max(x2)"
   ]
  },
  {
   "cell_type": "code",
   "execution_count": 6531,
   "metadata": {},
   "outputs": [],
   "source": [
    "#경사하강법: 정규화/초기값/학습률 전부를 잘 선택해야 합니다\n",
    "w1 = 3.5 # 3으로 수렴\n",
    "w2 = 1.5# 1로 수렴\n",
    "b = 0 # 1로 수렴"
   ]
  },
  {
   "cell_type": "code",
   "execution_count": 6579,
   "metadata": {},
   "outputs": [
    {
     "data": {
      "text/plain": [
       "(0.10431016422236566,\n",
       " 3.3768938298068947,\n",
       " 1.4499475600796572,\n",
       " 0.6114060385427817)"
      ]
     },
     "execution_count": 6579,
     "metadata": {},
     "output_type": "execute_result"
    }
   ],
   "source": [
    "h = w1 * x1 **2 + w2 * x2 + b # 내가 원하는 방정식\n",
    "# 코스트 함수를 핏팅하려는 파라미터로 미분하면 기울기가 나오는데\n",
    "# 핏팅하려는 파라미터에서 그 기울기만큼을 빼줍니다 (학습률로 조절을 해서)\n",
    "# for 문으로 x,y 하나씩 뽑아서 구현하면 SGD\n",
    "cost = np.mean((h - y)**2)\n",
    "learning_rate = 0.1 # 0.001 정규화를 하면 학습률이 커도 학습이 잘 됩니다.\n",
    "z = h - y\n",
    "w1 = w1 - learning_rate * np.mean((2*z)*(x1**2)) #모든 데이터를 사용했으므로 배치경사하강법\n",
    "w2 = w2 - learning_rate * np.mean((2*z)*(x2))\n",
    "b = b - learning_rate * np.mean((2*z)*(1))\n",
    "cost, w1,w2,b"
   ]
  },
  {
   "cell_type": "code",
   "execution_count": 6577,
   "metadata": {},
   "outputs": [
    {
     "data": {
      "text/plain": [
       "<matplotlib.legend.Legend at 0x269a21d0>"
      ]
     },
     "execution_count": 6577,
     "metadata": {},
     "output_type": "execute_result"
    },
    {
     "data": {
      "image/png": "[encoded data removed]",
      "text/plain": [
       "<Figure size 432x288 with 1 Axes>"
      ]
     },
     "metadata": {
      "needs_background": "light"
     },
     "output_type": "display_data"
    }
   ],
   "source": [
    "plt.scatter(x1, y, label='Y')\n",
    "plt.scatter(x1, h, label='h')\n",
    "plt.legend()"
   ]
  },
  {
   "cell_type": "code",
   "execution_count": null,
   "metadata": {},
   "outputs": [],
   "source": []
  },
  {
   "cell_type": "code",
   "execution_count": 6618,
   "metadata": {},
   "outputs": [],
   "source": [
    "m = 100\n",
    "x = 6 * np.random.rand(m,1) - 3\n",
    "y = 0.5 + x**3 + x**2 + 2 + np.random.rand(m,1)"
   ]
  },
  {
   "cell_type": "code",
   "execution_count": null,
   "metadata": {},
   "outputs": [],
   "source": [
    "from sklearn.preprocessing import PolynomialFeatures #다항식 특성\n",
    "pf = PolynomialFeatures(degree=10, include_bias=False)\n",
    "x_poly = pf.fit_transform(x)\n",
    "x.shape, x_poly.shape, pf.get_feature_names()"
   ]
  },
  {
   "cell_type": "code",
   "execution_count": 6633,
   "metadata": {},
   "outputs": [],
   "source": [
    "from sklearn.linear_model import LinearRegression\n",
    "model = LinearRegression().fit(x_poly, y) #다항식이 추가된 X\n",
    "model_basic = LinearRegression().fit(x, y) #원래 X"
   ]
  },
  {
   "cell_type": "code",
   "execution_count": 6634,
   "metadata": {},
   "outputs": [
    {
     "data": {
      "text/plain": [
       "0.0"
      ]
     },
     "execution_count": 6634,
     "metadata": {},
     "output_type": "execute_result"
    }
   ],
   "source": [
    "np.sum( x[:,0] - x_poly[:,0] ) # 같은 값이다 "
   ]
  },
  {
   "cell_type": "code",
   "execution_count": 6635,
   "metadata": {},
   "outputs": [
    {
     "data": {
      "text/plain": [
       "<matplotlib.collections.PathCollection at 0x289d2630>"
      ]
     },
     "execution_count": 6635,
     "metadata": {},
     "output_type": "execute_result"
    },
    {
     "data": {
      "image/png": "[encoded data removed]",
      "text/plain": [
       "<Figure size 432x288 with 1 Axes>"
      ]
     },
     "metadata": {
      "needs_background": "light"
     },
     "output_type": "display_data"
    }
   ],
   "source": [
    "plt.scatter(x, y)\n",
    "plt.scatter(x, model.predict(x_poly), s=5) \n",
    "plt.scatter(x, model_basic.predict(x), s=5) "
   ]
  },
  {
   "cell_type": "code",
   "execution_count": 6636,
   "metadata": {},
   "outputs": [],
   "source": [
    "from sklearn.pipeline import Pipeline"
   ]
  },
  {
   "cell_type": "code",
   "execution_count": 6646,
   "metadata": {},
   "outputs": [],
   "source": [
    "pipe = Pipeline([\n",
    "    ('feature', PolynomialFeatures(degree=5, include_bias=False)),\n",
    "    ('reg', LinearRegression())\n",
    "])"
   ]
  },
  {
   "cell_type": "code",
   "execution_count": 6649,
   "metadata": {},
   "outputs": [
    {
     "data": {
      "text/plain": [
       "0.999392547475302"
      ]
     },
     "execution_count": 6649,
     "metadata": {},
     "output_type": "execute_result"
    }
   ],
   "source": [
    "pipe.fit(x,y)\n",
    "pipe.score(x,y)"
   ]
  },
  {
   "cell_type": "code",
   "execution_count": 6656,
   "metadata": {},
   "outputs": [
    {
     "data": {
      "text/plain": [
       "{'memory': None,\n",
       " 'steps': [('feature',\n",
       "   PolynomialFeatures(degree=5, include_bias=False, interaction_only=False,\n",
       "                      order='C')),\n",
       "  ('reg',\n",
       "   LinearRegression(copy_X=True, fit_intercept=True, n_jobs=None, normalize=False))],\n",
       " 'verbose': False,\n",
       " 'feature': PolynomialFeatures(degree=5, include_bias=False, interaction_only=False,\n",
       "                    order='C'),\n",
       " 'reg': LinearRegression(copy_X=True, fit_intercept=True, n_jobs=None, normalize=False),\n",
       " 'feature__degree': 5,\n",
       " 'feature__include_bias': False,\n",
       " 'feature__interaction_only': False,\n",
       " 'feature__order': 'C',\n",
       " 'reg__copy_X': True,\n",
       " 'reg__fit_intercept': True,\n",
       " 'reg__n_jobs': None,\n",
       " 'reg__normalize': False}"
      ]
     },
     "execution_count": 6656,
     "metadata": {},
     "output_type": "execute_result"
    }
   ],
   "source": [
    "pipe.get_params()"
   ]
  },
  {
   "cell_type": "code",
   "execution_count": null,
   "metadata": {},
   "outputs": [],
   "source": []
  }
 ],
 "metadata": {
  "kernelspec": {
   "display_name": "Python 3",
   "language": "python",
   "name": "python3"
  },
  "language_info": {
   "codemirror_mode": {
    "name": "ipython",
    "version": 3
   },
   "file_extension": ".py",
   "mimetype": "text/x-python",
   "name": "python",
   "nbconvert_exporter": "python",
   "pygments_lexer": "ipython3",
   "version": "3.7.3"
  }
 },
 "nbformat": 4,
 "nbformat_minor": 2
}
