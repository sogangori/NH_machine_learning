{
 "cells": [
  {
   "cell_type": "markdown",
   "metadata": {},
   "source": [
    "## 뉴스 분류하기(정치/사회/스포츠) k = 3"
   ]
  },
  {
   "cell_type": "markdown",
   "metadata": {},
   "source": [
    "1. 수치 데이터 \n",
    "2. 카테고리 데이터(남/녀, 학생/공무원, 결혼/이혼/사별)\n",
    "   > 원핫 인코딩 (1,0) , (1,0,0,0)\n",
    "3. 이미지 fashion Mnist (28x28x1) \n",
    "   > 명암 변환 [0~255]\n",
    "4. 나는 소년 입니다\n",
    "   > 토큰나이징(토큰(단어)으로 나눈다) 나는/소년/이다\n",
    "   > 토큰 > 원핫 인코딩 (1,0,0,0...), (0,1,0,0,0....)\n",
    "   > 벡터로 변환 : word embedding\n",
    "5. 뉴스\n",
    "   뉴스는 여러개의 문장들\n",
    "   > 토큰나이징 > 단어를 분리\n",
    "   > 원핫 인코딩 >  (1,0,0) (0,1,0) (0,1,0)  \n",
    "   단어 가방     >  (1,2,0) : 단어를 가방에 다 넣어서 누적시킨다"
   ]
  },
  {
   "cell_type": "code",
   "execution_count": 19,
   "metadata": {},
   "outputs": [
    {
     "data": {
      "text/plain": [
       "(6, 6)"
      ]
     },
     "execution_count": 19,
     "metadata": {},
     "output_type": "execute_result"
    }
   ],
   "source": [
    "x = ['국회 국회 국회 국회 조국 법무부 장관이 17일 국회를 찾았다. 국회 인사청문회가 열렸던 지난 6일 이후 11일만이다. 조 장관은 이날 취임인사차 정당 지도부를 찾았지만 취재진들의 질문은 사모펀드와 5촌 조카, 딸 입시 의혹, 피의사실공표 제한 문제에 집중됐다'\n",
    "     ,'17일 경기도 파주 소재 양돈농장에서 돼지에 치명적인 전염병인 아프리카돼지열병(ASF)이 발생하면서 정부에 초비상이 걸렸다. 방역당국은 곧바로 발생 농가의 돼지들을 살처분하고, , 48시간 전국의 가축 이동중지라는 초강수 대책을 내놨다'\n",
    "     ,'kt 우완 배제성(23)은 올 시즌 팀에서 가장 뜨거운 새 얼굴이었다. 2015년 지명 이후 단 1승도 없었던 배제성은, 올해 27경기에서 9승(10패)을 거두며 10승 투수를 목전에 뒀다.'\n",
    "     ,'김문수 전 경기도지사가 17일 오전 청와대 분수대 앞에서 조국 법무부 장관의 사퇴를 촉구하며 삭발을 단행했다. 이날 삭발식에는 박대출·윤종필 자유한국당 의원, 이재오 한국당 상임고문 등이 참석했다.'\n",
    "     ,'치사율이 100%에 이르는 돼지 전염병인 아프리카돼지열병(ASF)이 국내에서 처음 발병함에 따라 방역 당국에 비상이 걸렸다. 이번 발병으로 우리나라는 그동안 유지해온 돼지열병 청정국 지위를 잃게 됐다'\n",
    "     ,'개인 기술과 드리블 돌파 능력이 좋아 태국 메시 라 불리는 차나팁 송크라신이 축구 게임 FIFA 20에서 높은 기술 점수를 받았다. 태국 언론은 송크라신이 게임으로부터 크리스티아누 호날두와 네이마르 등 세계적 테크니션과 같은 점수를 받았다며 환호하고 있다.']\n",
    "y = [0, 1, 2, 0, 1, 2]\n",
    "len(x), len(y)"
   ]
  },
  {
   "cell_type": "code",
   "execution_count": 20,
   "metadata": {},
   "outputs": [],
   "source": [
    "import numpy as np\n",
    "from sklearn.linear_model import LogisticRegression #모델\n",
    "from sklearn.feature_extraction.text import CountVectorizer #단어 가방 전처리"
   ]
  },
  {
   "cell_type": "code",
   "execution_count": 21,
   "metadata": {},
   "outputs": [
    {
     "data": {
      "text/plain": [
       "151"
      ]
     },
     "execution_count": 21,
     "metadata": {},
     "output_type": "execute_result"
    }
   ],
   "source": [
    "cv = CountVectorizer().fit(x)\n",
    "len(cv.vocabulary_)"
   ]
  },
  {
   "cell_type": "code",
   "execution_count": null,
   "metadata": {},
   "outputs": [],
   "source": [
    "x_wob = cv.transform(x) # 뉴스를 단어가방으로 변환\n",
    "x_wob # sparse matrix 희소(희박) 행렬 "
   ]
  },
  {
   "cell_type": "code",
   "execution_count": null,
   "metadata": {},
   "outputs": [],
   "source": [
    "x_wob.toarray() # dense matrix "
   ]
  },
  {
   "cell_type": "code",
   "execution_count": 25,
   "metadata": {},
   "outputs": [],
   "source": [
    "x = x_wob\n",
    "y = np.array(y)"
   ]
  },
  {
   "cell_type": "code",
   "execution_count": 59,
   "metadata": {},
   "outputs": [
    {
     "data": {
      "text/plain": [
       "1.0"
      ]
     },
     "execution_count": 59,
     "metadata": {},
     "output_type": "execute_result"
    }
   ],
   "source": [
    "model = LogisticRegression().fit(x[:3],y[:3])\n",
    "model.score(x[:3],y[:3])"
   ]
  },
  {
   "cell_type": "code",
   "execution_count": 49,
   "metadata": {},
   "outputs": [
    {
     "data": {
      "text/plain": [
       "array([0, 1, 2])"
      ]
     },
     "execution_count": 49,
     "metadata": {},
     "output_type": "execute_result"
    }
   ],
   "source": [
    "model.predict(x[3:])"
   ]
  },
  {
   "cell_type": "code",
   "execution_count": 60,
   "metadata": {},
   "outputs": [
    {
     "data": {
      "text/plain": [
       "array([0, 2, 2])"
      ]
     },
     "execution_count": 60,
     "metadata": {},
     "output_type": "execute_result"
    }
   ],
   "source": [
    "test = cv.transform(['국회 조국',' 청와대 분수대 ', '올림픽'])\n",
    "model.predict(test)"
   ]
  },
  {
   "cell_type": "code",
   "execution_count": null,
   "metadata": {},
   "outputs": [],
   "source": []
  }
 ],
 "metadata": {
  "kernelspec": {
   "display_name": "Python 3",
   "language": "python",
   "name": "python3"
  },
  "language_info": {
   "codemirror_mode": {
    "name": "ipython",
    "version": 3
   },
   "file_extension": ".py",
   "mimetype": "text/x-python",
   "name": "python",
   "nbconvert_exporter": "python",
   "pygments_lexer": "ipython3",
   "version": "3.7.3"
  }
 },
 "nbformat": 4,
 "nbformat_minor": 2
}
