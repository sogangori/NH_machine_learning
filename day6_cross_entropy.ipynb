{
 "cells": [
  {
   "cell_type": "markdown",
   "metadata": {},
   "source": [
    "#  분류: 크로스 엔트로피 cross entropy\n",
    "\n",
    "### -(y * log(h) + (1-y) * log(1-h)) ,   h = sigmoid(WX+b)\n",
    "\n",
    "### 예측: 기존 MSE(Mean Square Error) \n",
    "###  (square(h-y))"
   ]
  },
  {
   "cell_type": "code",
   "execution_count": 1,
   "metadata": {},
   "outputs": [],
   "source": [
    "import numpy as np\n",
    "import tensorflow as tf\n",
    "import matplotlib.pyplot as pltset_datetimeparse_function"
   ]
  },
  {
   "cell_type": "code",
   "execution_count": 2,
   "metadata": {},
   "outputs": [],
   "source": [
    "np.set_printoptions(precision=4)\n",
    "y = np.array([0,0,0,1,1,1]) # 클래스 번호\n",
    "h = np.array([0.01, 0.1, 0.3,  0.99, 0.8, 0.7]) # 모델의 예측"
   ]
  },
  {
   "cell_type": "code",
   "execution_count": 3,
   "metadata": {
    "scrolled": false
   },
   "outputs": [
    {
     "data": {
      "text/plain": [
       "array([0.0001, 0.01  , 0.09  , 0.0001, 0.04  , 0.09  ])"
      ]
     },
     "execution_count": 3,
     "metadata": {},
     "output_type": "execute_result"
    }
   ],
   "source": [
    "(h - y)**2"
   ]
  },
  {
   "cell_type": "markdown",
   "metadata": {},
   "source": [
    "log(1) = 0,  np.log(0) = -inf"
   ]
  },
  {
   "cell_type": "code",
   "execution_count": 4,
   "metadata": {},
   "outputs": [
    {
     "data": {
      "text/plain": [
       "array([0.    , 0.    , 0.    , 0.0101, 0.2231, 0.3567])"
      ]
     },
     "execution_count": 4,
     "metadata": {},
     "output_type": "execute_result"
    }
   ],
   "source": [
    "-(y * np.log(h)) #왼쪽, y가 1인 샘플의 코스트"
   ]
  },
  {
   "cell_type": "code",
   "execution_count": 5,
   "metadata": {},
   "outputs": [
    {
     "data": {
      "text/plain": [
       "array([0.0101, 0.1054, 0.3567, 0.    , 0.    , 0.    ])"
      ]
     },
     "execution_count": 5,
     "metadata": {},
     "output_type": "execute_result"
    }
   ],
   "source": [
    "-((1-y) * np.log(1-h)) #오른쪽, y가 0인 샘플의 코스트"
   ]
  },
  {
   "cell_type": "code",
   "execution_count": 6,
   "metadata": {},
   "outputs": [
    {
     "data": {
      "text/plain": [
       "array([0.0101, 0.1054, 0.3567, 0.0101, 0.2231, 0.3567])"
      ]
     },
     "execution_count": 6,
     "metadata": {},
     "output_type": "execute_result"
    }
   ],
   "source": [
    "-(y * np.log(h) + (1-y) * np.log(1-h))"
   ]
  },
  {
   "cell_type": "code",
   "execution_count": 7,
   "metadata": {},
   "outputs": [
    {
     "data": {
      "text/plain": [
       "(0.03836666666666667, 0.1769924377594173)"
      ]
     },
     "execution_count": 7,
     "metadata": {},
     "output_type": "execute_result"
    }
   ],
   "source": [
    "#에러 크기 비교, MES < CE  \n",
    "np.mean((h - y)**2), np.mean(-(y * np.log(h) + (1-y) * np.log(1-h)))"
   ]
  },
  {
   "cell_type": "code",
   "execution_count": 8,
   "metadata": {},
   "outputs": [
    {
     "name": "stderr",
     "output_type": "stream",
     "text": [
      "C:\\ProgramData\\Anaconda3\\lib\\site-packages\\ipykernel_launcher.py:2: RuntimeWarning: divide by zero encountered in log\n",
      "  \n"
     ]
    },
    {
     "ename": "NameError",
     "evalue": "name 'plt' is not defined",
     "output_type": "error",
     "traceback": [
      "\u001b[1;31m---------------------------------------------------------------------------\u001b[0m",
      "\u001b[1;31mNameError\u001b[0m                                 Traceback (most recent call last)",
      "\u001b[1;32m<ipython-input-8-b0496d7a7955>\u001b[0m in \u001b[0;36m<module>\u001b[1;34m\u001b[0m\n\u001b[0;32m      1\u001b[0m \u001b[0mxx\u001b[0m \u001b[1;33m=\u001b[0m \u001b[0mnp\u001b[0m\u001b[1;33m.\u001b[0m\u001b[0marange\u001b[0m\u001b[1;33m(\u001b[0m\u001b[1;36m0\u001b[0m\u001b[1;33m,\u001b[0m\u001b[1;36m1.1\u001b[0m\u001b[1;33m,\u001b[0m\u001b[1;36m0.001\u001b[0m\u001b[1;33m)\u001b[0m\u001b[1;33m\u001b[0m\u001b[1;33m\u001b[0m\u001b[0m\n\u001b[0;32m      2\u001b[0m \u001b[0myy\u001b[0m \u001b[1;33m=\u001b[0m \u001b[0mnp\u001b[0m\u001b[1;33m.\u001b[0m\u001b[0mlog\u001b[0m\u001b[1;33m(\u001b[0m\u001b[0mxx\u001b[0m\u001b[1;33m)\u001b[0m\u001b[1;33m\u001b[0m\u001b[1;33m\u001b[0m\u001b[0m\n\u001b[1;32m----> 3\u001b[1;33m \u001b[0mplt\u001b[0m\u001b[1;33m.\u001b[0m\u001b[0mscatter\u001b[0m\u001b[1;33m(\u001b[0m\u001b[0mxx\u001b[0m\u001b[1;33m,\u001b[0m\u001b[0myy\u001b[0m\u001b[1;33m,\u001b[0m \u001b[0ms\u001b[0m\u001b[1;33m=\u001b[0m\u001b[1;36m2\u001b[0m\u001b[1;33m)\u001b[0m\u001b[1;33m\u001b[0m\u001b[1;33m\u001b[0m\u001b[0m\n\u001b[0m\u001b[0;32m      4\u001b[0m \u001b[0mplt\u001b[0m\u001b[1;33m.\u001b[0m\u001b[0mscatter\u001b[0m\u001b[1;33m(\u001b[0m\u001b[1;36m1\u001b[0m\u001b[1;33m,\u001b[0m \u001b[0mnp\u001b[0m\u001b[1;33m.\u001b[0m\u001b[0mlog\u001b[0m\u001b[1;33m(\u001b[0m\u001b[1;36m1\u001b[0m\u001b[1;33m)\u001b[0m\u001b[1;33m,\u001b[0m \u001b[0ms\u001b[0m\u001b[1;33m=\u001b[0m\u001b[1;36m100\u001b[0m\u001b[1;33m)\u001b[0m\u001b[1;33m\u001b[0m\u001b[1;33m\u001b[0m\u001b[0m\n\u001b[0;32m      5\u001b[0m \u001b[0mplt\u001b[0m\u001b[1;33m.\u001b[0m\u001b[0mtitle\u001b[0m\u001b[1;33m(\u001b[0m\u001b[1;34m'log'\u001b[0m\u001b[1;33m)\u001b[0m\u001b[1;33m\u001b[0m\u001b[1;33m\u001b[0m\u001b[0m\n",
      "\u001b[1;31mNameError\u001b[0m: name 'plt' is not defined"
     ]
    }
   ],
   "source": [
    "xx = np.arange(0,1.1,0.001)\n",
    "yy = np.log(xx)\n",
    "plt.scatter(xx,yy, s=2)\n",
    "plt.scatter(1, np.log(1), s=100)\n",
    "plt.title('log')"
   ]
  },
  {
   "cell_type": "code",
   "execution_count": null,
   "metadata": {},
   "outputs": [],
   "source": [
    "np.round(h)"
   ]
  },
  {
   "cell_type": "code",
   "execution_count": 9,
   "metadata": {},
   "outputs": [
    {
     "data": {
      "text/plain": [
       "(6, 6)"
      ]
     },
     "execution_count": 9,
     "metadata": {},
     "output_type": "execute_result"
    }
   ],
   "source": [
    "x_data = [[1,2],[2,3],[3,1],[4,3],[5,3],[6,2.0]] #실수\n",
    "y_data = [[0],[0],[0],[1],[1],[1.0]] #실수\n",
    "len(x_data), len(y_data)"
   ]
  },
  {
   "cell_type": "code",
   "execution_count": 48,
   "metadata": {},
   "outputs": [
    {
     "name": "stdout",
     "output_type": "stream",
     "text": [
      "0 0.67949146 0.5\n",
      "1000 0.42254338 0.8333333\n",
      "2000 0.39378938 0.8333333\n",
      "3000 0.38782367 0.8333333\n",
      "4000 0.38418242 0.8333333\n",
      "5000 0.3823067 0.8333333\n",
      "6000 0.38111243 0.8333333\n",
      "7000 0.380358 0.8333333\n",
      "8000 0.37971327 0.8333333\n",
      "9000 0.37923262 0.8333333\n",
      "[[1.0000e-08]\n",
      " [1.0000e-08]\n",
      " [7.3722e-01]\n",
      " [7.0709e-01]\n",
      " [7.4212e-01]\n",
      " [7.4693e-01]]\n"
     ]
    }
   ],
   "source": [
    "x = tf.constant(x_data, dtype=tf.float32)\n",
    "y = tf.constant(y_data, dtype=tf.float32)\n",
    "seed = 100\n",
    "W = tf.Variable(tf.random_normal(shape=[2,1],seed=seed))\n",
    "b = tf.Variable(tf.random_normal(shape=[1],seed=seed))\n",
    "h = tf.sigmoid(tf.matmul(x, W)) + b  #(6,2) * (2,1) = (6,1)\n",
    "h = tf.maximum(1e-8, h) #하한\n",
    "h = tf.minimum(1 - 1e-8, h) #상한\n",
    "cost = -tf.reduce_mean((y * tf.log(h) + (1-y) * tf.log(1-h)))\n",
    "train = tf.train.GradientDescentOptimizer(0.01).minimize(cost)\n",
    "predicted = tf.cast(h > 0.5, tf.float32)\n",
    "accuracy = tf.reduce_mean(tf.cast(tf.equal(y, predicted), tf.float32))\n",
    "with tf.Session() as sess:\n",
    "    sess.run(tf.global_variables_initializer())\n",
    "    for i in range(10000):\n",
    "        _, c, acc = sess.run([train, cost, accuracy])\n",
    "        if i%1000==0:print(i, c, acc)\n",
    "    print(sess.run(h))"
   ]
  },
  {
   "cell_type": "code",
   "execution_count": 55,
   "metadata": {},
   "outputs": [],
   "source": [
    "import pandas as pd\n",
    "#github 에서 raw 버튼 눌러서 나오는 주소입니다 \n",
    "url='https://raw.githubusercontent.com/hunkim/DeepLearningZeroToAll/master/data-03-diabetes.csv'\n",
    "df = pd.read_csv(url, header=None)\n",
    "data = np.array(df)\n",
    "data.shape"
   ]
  },
  {
   "cell_type": "code",
   "execution_count": 58,
   "metadata": {},
   "outputs": [],
   "source": [
    "x_data = data[:,:-1]\n",
    "y_data = data[:,[-1]]"
   ]
  },
  {
   "cell_type": "code",
   "execution_count": null,
   "metadata": {},
   "outputs": [],
   "source": [
    "x = tf.constant(x_data, dtype=tf.float32)\n",
    "y = tf.constant(y_data, dtype=tf.float32)\n",
    "seed = 100\n",
    "W = tf.Variable(tf.random_normal(shape=[8,1],seed=seed))\n",
    "b = tf.Variable(tf.random_normal(shape=[1],seed=seed))\n",
    "h = tf.sigmoid(tf.matmul(x, W)) + b  #(6,2) * (2,1) = (6,1)\n",
    "h = tf.maximum(1e-8, h) #하한\n",
    "h = tf.minimum(1 - 1e-8, h) #상한\n",
    "cost = -tf.reduce_mean((y * tf.log(h) + (1-y) * tf.log(1-h)))\n",
    "train = tf.train.GradientDescentOptimizer(0.001).minimize(cost)\n",
    "predicted = tf.cast(h > 0.5, tf.float32)\n",
    "accuracy = tf.reduce_mean(tf.cast(tf.equal(y, predicted), tf.float32))\n",
    "with tf.Session() as sess:\n",
    "    sess.run(tf.global_variables_initializer())\n",
    "    for i in range(10000):\n",
    "        _, c, acc = sess.run([train, cost, accuracy])\n",
    "        #if i%1000==0:print(i, c, acc)\n",
    "    print(sess.run(h)) # 당뇨병일 확률\n",
    "    #print(1-sess.run(h)) # 당뇨병이 아닐 확률    "
   ]
  },
  {
   "cell_type": "markdown",
   "metadata": {},
   "source": [
    "# 멀티 클래스 k=3 일때"
   ]
  },
  {
   "cell_type": "markdown",
   "metadata": {},
   "source": [
    "2진 분류(k=2) 일때는 x1 가 클래스 1일 확률만 구하면 끝\n",
    "\n",
    "wx+b = 5\n",
    "sigmoid(wx+b) = sigmoid(5) = 0.95"
   ]
  },
  {
   "cell_type": "markdown",
   "metadata": {},
   "source": [
    "클래스가 3(A,B,C) 개 일때는 \n",
    "- x1 이 A 일 확률 \n",
    "- x1 이 B 일 확률 \n",
    "- x1 이 C 일 확률 \n",
    "을 모두 계산해야 됩니다\n",
    "\n",
    "wx+b = (5, 3, -4)\n",
    "sigmoid(5, 3, -4) = (0.95, 0.3, 0.4) ? 가장 큰 확률값이 어디있지? "
   ]
  },
  {
   "cell_type": "code",
   "execution_count": 65,
   "metadata": {},
   "outputs": [
    {
     "data": {
      "text/plain": [
       "array([2. , 1. , 0.1])"
      ]
     },
     "execution_count": 65,
     "metadata": {},
     "output_type": "execute_result"
    }
   ],
   "source": [
    "#score = np.array((0.95, 0.3, 0.4))\n",
    "score = np.array((2.0, 1.0, 0.1))\n",
    "score"
   ]
  },
  {
   "cell_type": "code",
   "execution_count": 66,
   "metadata": {},
   "outputs": [
    {
     "data": {
      "text/plain": [
       "array([7.3891, 2.7183, 1.1052])"
      ]
     },
     "execution_count": 66,
     "metadata": {},
     "output_type": "execute_result"
    }
   ],
   "source": [
    "# 이 3개의 값을 확률로 바꿉니다. Softmax \n",
    "np.exp(score)"
   ]
  },
  {
   "cell_type": "code",
   "execution_count": 67,
   "metadata": {},
   "outputs": [
    {
     "data": {
      "text/plain": [
       "array([0.659 , 0.2424, 0.0986])"
      ]
     },
     "execution_count": 67,
     "metadata": {},
     "output_type": "execute_result"
    }
   ],
   "source": [
    "#sigmoid 는 하나의 점수를 확률로 바꿉니다\n",
    "#softmax 는 여러개의 점수를 여러개의 확률로 바꿉니다\n",
    "np.exp(score)/np.sum(np.exp(score))  "
   ]
  },
  {
   "cell_type": "markdown",
   "metadata": {},
   "source": [
    "# 동물 분류하기"
   ]
  },
  {
   "cell_type": "code",
   "execution_count": 111,
   "metadata": {},
   "outputs": [
    {
     "data": {
      "text/plain": [
       "(120, 17)"
      ]
     },
     "execution_count": 111,
     "metadata": {},
     "output_type": "execute_result"
    }
   ],
   "source": [
    "url='https://raw.githubusercontent.com/hunkim/DeepLearningZeroToAll/master/data-04-zoo.csv'\n",
    "df = pd.read_csv(url, header=None)\n",
    "df.shape"
   ]
  },
  {
   "cell_type": "code",
   "execution_count": 113,
   "metadata": {},
   "outputs": [
    {
     "data": {
      "text/html": [
       "<div>\n",
       "<style scoped>\n",
       "    .dataframe tbody tr th:only-of-type {\n",
       "        vertical-align: middle;\n",
       "    }\n",
       "\n",
       "    .dataframe tbody tr th {\n",
       "        vertical-align: top;\n",
       "    }\n",
       "\n",
       "    .dataframe thead th {\n",
       "        text-align: right;\n",
       "    }\n",
       "</style>\n",
       "<table border=\"1\" class=\"dataframe\">\n",
       "  <thead>\n",
       "    <tr style=\"text-align: right;\">\n",
       "      <th></th>\n",
       "      <th>0</th>\n",
       "      <th>1</th>\n",
       "      <th>2</th>\n",
       "      <th>3</th>\n",
       "      <th>4</th>\n",
       "      <th>5</th>\n",
       "      <th>6</th>\n",
       "      <th>7</th>\n",
       "      <th>8</th>\n",
       "      <th>9</th>\n",
       "      <th>10</th>\n",
       "      <th>11</th>\n",
       "      <th>12</th>\n",
       "      <th>13</th>\n",
       "      <th>14</th>\n",
       "      <th>15</th>\n",
       "      <th>16</th>\n",
       "    </tr>\n",
       "  </thead>\n",
       "  <tbody>\n",
       "    <tr>\n",
       "      <th>19</th>\n",
       "      <td>1</td>\n",
       "      <td>0</td>\n",
       "      <td>0.0</td>\n",
       "      <td>1.0</td>\n",
       "      <td>0.0</td>\n",
       "      <td>0</td>\n",
       "      <td>1.0</td>\n",
       "      <td>1.0</td>\n",
       "      <td>1.0</td>\n",
       "      <td>1.0</td>\n",
       "      <td>0.0</td>\n",
       "      <td>0.0</td>\n",
       "      <td>4.0</td>\n",
       "      <td>0.0</td>\n",
       "      <td>0.0</td>\n",
       "      <td>1.0</td>\n",
       "      <td>0.0</td>\n",
       "    </tr>\n",
       "  </tbody>\n",
       "</table>\n",
       "</div>"
      ],
      "text/plain": [
       "   0  1    2    3    4  5    6    7    8    9    10   11   12   13   14   15  \\\n",
       "19  1  0  0.0  1.0  0.0  0  1.0  1.0  1.0  1.0  0.0  0.0  4.0  0.0  0.0  1.0   \n",
       "\n",
       "     16  \n",
       "19  0.0  "
      ]
     },
     "execution_count": 113,
     "metadata": {},
     "output_type": "execute_result"
    }
   ],
   "source": [
    "zoo = df.iloc[19:]\n",
    "zoo.head(1)"
   ]
  },
  {
   "cell_type": "code",
   "execution_count": null,
   "metadata": {},
   "outputs": [],
   "source": [
    "zoo.isna().sum().sum()"
   ]
  },
  {
   "cell_type": "code",
   "execution_count": null,
   "metadata": {},
   "outputs": [],
   "source": [
    "zoo.boxplot()"
   ]
  },
  {
   "cell_type": "code",
   "execution_count": null,
   "metadata": {},
   "outputs": [],
   "source": [
    "x = zoo.drop(columns=16)\n",
    "y = zoo[16]\n",
    "x = np.array(x).astype(np.float32)\n",
    "y = np.array(y)\n",
    "x.shape, y.shape, np.min(y), np.max(y) #   W = (16, 7),  b = (7) 필요합니다"
   ]
  },
  {
   "cell_type": "markdown",
   "metadata": {},
   "source": [
    "원핫 인코딩\n",
    "y = 0  > (1000000) > (0.999  0.00001   0.00000  0.00000 0.0000 ...)\n",
    "y = 1  > (0100000)\n",
    "y = 7  > (0000001)"
   ]
  },
  {
   "cell_type": "code",
   "execution_count": 188,
   "metadata": {},
   "outputs": [],
   "source": [
    "xx = tf.constant(x, dtype=tf.float32) # (100, 16)\n",
    "yy = tf.constant(y, dtype=tf.int64) # (100)\n",
    "y_hot = tf.one_hot(yy, depth=7, axis=-1) # (100, 7)\n",
    "y_hot = tf.cast(y_hot, tf.float32) # 실수"
   ]
  },
  {
   "cell_type": "code",
   "execution_count": 196,
   "metadata": {},
   "outputs": [],
   "source": [
    "W = tf.Variable(tf.random_normal(shape=[16,7]))\n",
    "b = tf.Variable(tf.random_normal(shape=[7]))\n",
    "h = tf.matmul(xx, W) + b #(100,16) * (16,7) = (100, 7) + (7) = (100, 7)\n",
    "p = tf.nn.softmax(h) # sigmoid가 softmax 로 바뀌었습니다"
   ]
  },
  {
   "cell_type": "code",
   "execution_count": 195,
   "metadata": {},
   "outputs": [],
   "source": [
    "# yhot(100, 7) * p(100, 7)\n",
    "cost = -tf.reduce_mean((y_hot * tf.log(p) + (1-y_hot) * tf.log(1-p))) #CE\n",
    "train = tf.train.GradientDescentOptimizer(0.1).minimize(cost)\n",
    "# argmax(100, 7)  = (100)\n",
    "predicted = tf.cast(tf.math.argmax(p, -1), tf.int64) # 반올림이 argmax 로 바뀜\n",
    "accuracy = tf.reduce_mean(tf.cast(tf.equal(yy, predicted), tf.float32))"
   ]
  },
  {
   "cell_type": "code",
   "execution_count": 211,
   "metadata": {},
   "outputs": [
    {
     "name": "stdout",
     "output_type": "stream",
     "text": [
      "0 1.324377 0.12871288\n",
      "500 0.23341548 0.65346533\n",
      "1000 0.12552626 0.8811881\n",
      "1500 0.093456544 0.8910891\n",
      "[[8.9919e-03 7.1297e-07 2.5787e-01 4.1889e-01 3.1423e-01 7.5394e-06\n",
      "  2.4010e-06]\n",
      " [7.4080e-04 2.3312e-06 1.6332e-02 4.2129e-01 5.6155e-01 7.9891e-05\n",
      "  3.4943e-06]\n",
      " [1.2722e-03 7.2528e-02 2.1516e-01 6.4562e-01 5.3446e-02 7.7348e-03\n",
      "  4.2361e-03]\n",
      " [8.9919e-03 7.1297e-07 2.5787e-01 4.1889e-01 3.1423e-01 7.5394e-06\n",
      "  2.4010e-06]\n",
      " [9.7095e-04 4.8575e-07 4.9115e-02 8.2225e-02 8.6767e-01 1.3409e-05\n",
      "  5.1675e-07]]\n"
     ]
    }
   ],
   "source": [
    "with tf.Session() as sess:\n",
    "    sess.run(tf.global_variables_initializer())\n",
    "    for i in range(2000):\n",
    "        _, c, acc = sess.run([train, cost, accuracy])\n",
    "        if i%500==0:print(i, c, acc) \n",
    "    print(sess.run(p)[:5])"
   ]
  },
  {
   "cell_type": "code",
   "execution_count": 207,
   "metadata": {
    "scrolled": true
   },
   "outputs": [
    {
     "data": {
      "text/plain": [
       "array([0., 0., 3., 0., 0.])"
      ]
     },
     "execution_count": 207,
     "metadata": {},
     "output_type": "execute_result"
    }
   ],
   "source": [
    "y[:5]"
   ]
  },
  {
   "cell_type": "markdown",
   "metadata": {},
   "source": [
    "#  숫자 분류하기"
   ]
  },
  {
   "cell_type": "code",
   "execution_count": 213,
   "metadata": {},
   "outputs": [],
   "source": [
    "from sklearn.datasets import load_digits #(2천x8x8) MNIST(10만x28x28) 가 아닙니다"
   ]
  },
  {
   "cell_type": "code",
   "execution_count": 216,
   "metadata": {},
   "outputs": [],
   "source": [
    "digits = load_digits()"
   ]
  },
  {
   "cell_type": "code",
   "execution_count": 247,
   "metadata": {},
   "outputs": [
    {
     "data": {
      "text/plain": [
       "((1797, 64), (1797,))"
      ]
     },
     "execution_count": 247,
     "metadata": {},
     "output_type": "execute_result"
    }
   ],
   "source": [
    "digits.data.shape, digits.target.shape #x, y"
   ]
  },
  {
   "cell_type": "code",
   "execution_count": 248,
   "metadata": {},
   "outputs": [
    {
     "data": {
      "text/plain": [
       "(15.0, (64,))"
      ]
     },
     "execution_count": 248,
     "metadata": {},
     "output_type": "execute_result"
    }
   ],
   "source": [
    "x0 = digits.data[0]\n",
    "x0.max(), x0.shape # (x1, x2,.... x64) 64개 흑백 픽셀 이미지"
   ]
  },
  {
   "cell_type": "code",
   "execution_count": 249,
   "metadata": {},
   "outputs": [
    {
     "data": {
      "text/plain": [
       "array([ 0.,  0.,  5., 13.,  9.,  1.,  0.,  0.,  0.,  0., 13., 15., 10.,\n",
       "       15.,  5.,  0.,  0.,  3., 15.,  2.,  0., 11.,  8.,  0.,  0.,  4.,\n",
       "       12.,  0.,  0.,  8.,  8.,  0.,  0.,  5.,  8.,  0.,  0.,  9.,  8.,\n",
       "        0.,  0.,  4., 11.,  0.,  1., 12.,  7.,  0.,  0.,  2., 14.,  5.,\n",
       "       10., 12.,  0.,  0.,  0.,  0.,  6., 13., 10.,  0.,  0.,  0.])"
      ]
     },
     "execution_count": 249,
     "metadata": {},
     "output_type": "execute_result"
    }
   ],
   "source": [
    "x0"
   ]
  },
  {
   "cell_type": "code",
   "execution_count": null,
   "metadata": {},
   "outputs": [],
   "source": [
    "import matplotlib.pyplot as plt\n",
    "plt.imshow(x0.reshape(8,8), cmap='gray')"
   ]
  },
  {
   "cell_type": "code",
   "execution_count": null,
   "metadata": {},
   "outputs": [],
   "source": [
    "plt.hist(x)"
   ]
  },
  {
   "cell_type": "code",
   "execution_count": 241,
   "metadata": {},
   "outputs": [
    {
     "data": {
      "image/png": "[encoded data removed]",
      "text/plain": [
       "<Figure size 432x288 with 16 Axes>"
      ]
     },
     "metadata": {
      "needs_background": "light"
     },
     "output_type": "display_data"
    }
   ],
   "source": [
    "fig, ax=plt.subplots(nrows=4,ncols=4)\n",
    "for i in range(4):\n",
    "    for j in range(4):\n",
    "        ax[i,j].imshow(digits.data[i*4+j].reshape(8,8), cmap='gray')"
   ]
  },
  {
   "cell_type": "markdown",
   "metadata": {},
   "source": [
    "과정 \n",
    "\n",
    "x (64) , W(64, 10) = (w0(64),w1(64),w2(64)...w9(64)) , b(10)\n",
    "w0의 역활은 : x가 숫자 0냐만 판별하고\n",
    "x9의 역활은 : x가 숫자 9냐만 판별합니다\n",
    "행렬곱셈(x, W) = (1, 64) . (64, 10) = (1, 10) + b(10)=(1, 10):10개의 스코어(가능성)\n",
    "소프트맥스(스코어) = 확률(1, 10)\n",
    "오차 : 크로스 엔트로피(확률(1, 10), 정답(Y의 원핫인코딩(1,10)))\n",
    "판정(그래서 클래스가 뭐냐) : 가장큰 값의 위치(확률(10)) = 스칼라 0~9\n",
    "정확도 : equal(Y, 판정결과)"
   ]
  },
  {
   "cell_type": "code",
   "execution_count": null,
   "metadata": {},
   "outputs": [],
   "source": [
    "x = digits.data.astype(np.float32)\n",
    "y = digits.target\n",
    "x.shape, y.shape, x.dtype, y.dtype, np.min(x), np.max(x), np.min(y), np.max(y)"
   ]
  },
  {
   "cell_type": "markdown",
   "metadata": {},
   "source": [
    "Linear Regression(WX+B) > Logistic Regression(sigmoid(WX+B)) : 노드 1개 완성\n",
    "노드를 여러개 만들어서 1개의 레이어를 만듭니다\n",
    "여러개의 레이어를 만듭니다(딥 뉴럴네트워크DNN, 콘볼루셔널 CNN, 재귀 RNN)"
   ]
  },
  {
   "cell_type": "code",
   "execution_count": null,
   "metadata": {},
   "outputs": [],
   "source": [
    "y_onehot = tf.one_hot(y, depth=10)"
   ]
  },
  {
   "cell_type": "code",
   "execution_count": null,
   "metadata": {},
   "outputs": [],
   "source": [
    "w = tf.Variable(tf.random_normal(shape=[64, 10]))\n",
    "b = tf.Variable(tf.random_normal(shape=[10]))\n",
    "xn = x / tf.reduce_max(x) # 최대값 15로 나누자 [0, 1]\n",
    "z = tf.matmul(xn, w) + b #z 잠재변수, 여기서는 score/가능성\n",
    "print('z', z)\n",
    "h = tf.nn.softmax(z)\n",
    "# y_onehot 이 1일때는 h도 1이 나와야 한다. 만약 0이면 h도 0이 나와야 한다\n",
    "# log(1) = 0, log(0) = -inf \n",
    "h = tf.clip_by_value(h, 1e-8, 1 - 1e-8) # log(0) 이 되지 않도록 안전장치\n",
    "cost = - tf.reduce_mean(y_onehot * tf.log(h) + (1-y_onehot) * tf.log(1-h))\n",
    "#cost = - tf.reduce_mean(y_onehot * tf.log(h))\n",
    "predict_class = tf.math.argmax(h, axis=1, output_type=tf.int32) #[0~9]\n",
    "accuracy = tf.reduce_mean(tf.cast(tf.equal(predict_class, y), tf.float32)) \n",
    "train = tf.train.GradientDescentOptimizer(0.5).minimize(cost)\n",
    "sess = tf.Session()\n",
    "sess.run(tf.global_variables_initializer())"
   ]
  },
  {
   "cell_type": "code",
   "execution_count": null,
   "metadata": {},
   "outputs": [],
   "source": [
    "for i in range(1000):\n",
    "    _, c, a = sess.run([train, cost, accuracy])\n",
    "    if i%100 == 0: print(i, c, a)"
   ]
  },
  {
   "cell_type": "code",
   "execution_count": 370,
   "metadata": {},
   "outputs": [
    {
     "data": {
      "text/plain": [
       "(array([0, 1, 2, 3, 4, 5, 6, 7, 8, 9]),\n",
       " array([[1. , 0. , 0. , 0. , 0. , 0. , 0. , 0. , 0. , 0. ],\n",
       "        [0. , 0. , 0. , 0. , 0. , 0. , 0. , 0. , 1. , 0. ],\n",
       "        [0.4, 0. , 0. , 0. , 0. , 0. , 0. , 0. , 0.5, 0. ],\n",
       "        [0.3, 0. , 0. , 0. , 0. , 0. , 0. , 0. , 0.7, 0. ],\n",
       "        [0.9, 0. , 0. , 0. , 0. , 0. , 0. , 0. , 0.1, 0. ],\n",
       "        [0.4, 0. , 0. , 0. , 0. , 0. , 0. , 0. , 0.5, 0. ],\n",
       "        [0.1, 0. , 0. , 0. , 0. , 0. , 0. , 0. , 0.9, 0. ],\n",
       "        [0.5, 0. , 0.1, 0. , 0. , 0. , 0. , 0. , 0.4, 0. ],\n",
       "        [0. , 0. , 0. , 0. , 0. , 0. , 0. , 0. , 1. , 0. ],\n",
       "        [0. , 0. , 0. , 0. , 0. , 0. , 0. , 0. , 1. , 0. ]], dtype=float32))"
      ]
     },
     "execution_count": 370,
     "metadata": {},
     "output_type": "execute_result"
    }
   ],
   "source": [
    "test_m = 10\n",
    "np.set_printoptions(precision=1, suppress=True)\n",
    "y[:test_m], sess.run(h)[:test_m]"
   ]
  },
  {
   "cell_type": "code",
   "execution_count": null,
   "metadata": {},
   "outputs": [],
   "source": []
  }
 ],
 "metadata": {
  "kernelspec": {
   "display_name": "Python 3",
   "language": "python",
   "name": "python3"
  },
  "language_info": {
   "codemirror_mode": {
    "name": "ipython",
    "version": 3
   },
   "file_extension": ".py",
   "mimetype": "text/x-python",
   "name": "python",
   "nbconvert_exporter": "python",
   "pygments_lexer": "ipython3",
   "version": "3.7.3"
  }
 },
 "nbformat": 4,
 "nbformat_minor": 2
}
