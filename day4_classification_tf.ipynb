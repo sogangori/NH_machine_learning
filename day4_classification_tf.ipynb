{
 "cells": [
  {
   "cell_type": "markdown",
   "metadata": {},
   "source": [
    "## Tensorflow 로 직접 구현하는 Logistic Regression\n",
    "#### LinearRegession :      Y = WX + b                 #선형방정식\n",
    "#### LogisticRegression :  Y = sigmoid(WX + b) #선형+비선형방정식(exp:지수함수)\n",
    "\n",
    "- sigmoid 특성 : 최소값0, 최대값 1이므로 확률로 해석합니다"
   ]
  },
  {
   "cell_type": "code",
   "execution_count": 20,
   "metadata": {},
   "outputs": [],
   "source": [
    "import numpy as np\n",
    "import tensorflow as tf\n",
    "import matplotlib.pyplot as plt"
   ]
  },
  {
   "cell_type": "code",
   "execution_count": 103,
   "metadata": {},
   "outputs": [],
   "source": [
    "x = [[150,50],[155,55],[155,80],[160,55],[145,55]] #여성의 키, 몸무게\n",
    "y = [[0],[0],[1],[0],[1]] \n",
    "x_test = [[130,35], [150,45],[160,80],[170,57],[180,70]]"
   ]
  },
  {
   "cell_type": "code",
   "execution_count": 104,
   "metadata": {},
   "outputs": [],
   "source": [
    "from sklearn.preprocessing import MinMaxScaler\n",
    "scaler = MinMaxScaler().fit(x) # x의 최소 최대값을 계산해두고\n",
    "x = scaler.transform(x) #정규화한다\n",
    "x_test = scaler.transform(x_test)"
   ]
  },
  {
   "cell_type": "code",
   "execution_count": 105,
   "metadata": {},
   "outputs": [],
   "source": [
    "W = tf.Variable(tf.random_normal(shape=[2]))\n",
    "b = tf.Variable(tf.random_normal(shape=[1]))\n",
    "z = tf.reduce_sum(W*x, axis=1, keepdims=True) + b\n",
    "hypothesis = 1/(1+tf.exp(-z))\n",
    "cost = tf.reduce_mean(tf.square(hypothesis - y)) #MSE \n",
    "train = tf.train.GradientDescentOptimizer(0.01).minimize(cost)\n",
    "sess = tf.Session()\n",
    "sess.run(tf.global_variables_initializer())"
   ]
  },
  {
   "cell_type": "code",
   "execution_count": 106,
   "metadata": {},
   "outputs": [],
   "source": [
    "z_test = tf.reduce_sum(W*x_test, axis=1, keepdims=True) + b\n",
    "hypothesis_test = 1/(1+tf.exp(-z_test))"
   ]
  },
  {
   "cell_type": "code",
   "execution_count": null,
   "metadata": {},
   "outputs": [],
   "source": [
    "for i in range(10000):\n",
    "    sess.run(train) # w와 b 가 update 됩니다 \n",
    "    #if i%100==0: print(sess.run([cost,W]))\n",
    "sess.run(hypothesis),sess.run(hypothesis_test) # 모델의 역활은 여기서 끝"
   ]
  },
  {
   "cell_type": "code",
   "execution_count": 108,
   "metadata": {},
   "outputs": [
    {
     "data": {
      "text/plain": [
       "array([[1.],\n",
       "       [0.],\n",
       "       [1.],\n",
       "       [0.],\n",
       "       [0.]], dtype=float32)"
      ]
     },
     "execution_count": 108,
     "metadata": {},
     "output_type": "execute_result"
    }
   ],
   "source": [
    "np.round(sess.run(hypothesis_test))"
   ]
  },
  {
   "cell_type": "code",
   "execution_count": null,
   "metadata": {},
   "outputs": [],
   "source": []
  },
  {
   "cell_type": "code",
   "execution_count": 18,
   "metadata": {},
   "outputs": [
    {
     "data": {
      "text/plain": [
       "<matplotlib.collections.PathCollection at 0x107284e0>"
      ]
     },
     "execution_count": 18,
     "metadata": {},
     "output_type": "execute_result"
    },
    {
     "data": {
      "image/png": "[encoded data removed]",
      "text/plain": [
       "<Figure size 432x288 with 1 Axes>"
      ]
     },
     "metadata": {
      "needs_background": "light"
     },
     "output_type": "display_data"
    }
   ],
   "source": [
    "#test = np.arange(-10,10,0.001)\n",
    "#plt.scatter(x, 1/(1+np.exp(-x)))"
   ]
  },
  {
   "cell_type": "code",
   "execution_count": null,
   "metadata": {},
   "outputs": [],
   "source": []
  }
 ],
 "metadata": {
  "kernelspec": {
   "display_name": "Python 3",
   "language": "python",
   "name": "python3"
  },
  "language_info": {
   "codemirror_mode": {
    "name": "ipython",
    "version": 3
   },
   "file_extension": ".py",
   "mimetype": "text/x-python",
   "name": "python",
   "nbconvert_exporter": "python",
   "pygments_lexer": "ipython3",
   "version": "3.7.3"
  }
 },
 "nbformat": 4,
 "nbformat_minor": 2
}
