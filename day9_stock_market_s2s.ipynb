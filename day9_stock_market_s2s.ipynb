{
 "cells": [
  {
   "cell_type": "code",
   "execution_count": 2,
   "metadata": {},
   "outputs": [],
   "source": [
    "import pandas as pd\n",
    "import matplotlib.pyplot as plt\n",
    "import numpy as np\n",
    "import tensorflow as tf"
   ]
  },
  {
   "cell_type": "code",
   "execution_count": 3,
   "metadata": {},
   "outputs": [],
   "source": [
    "from matplotlib import font_manager, rc\n",
    "font_name = font_manager.FontProperties(fname=\"c:/Windows/Fonts/malgun.ttf\").get_name()\n",
    "rc('font', family=font_name)"
   ]
  },
  {
   "cell_type": "markdown",
   "metadata": {},
   "source": [
    "## 증시 예측 s2s (sequence 2 sequence )\n",
    "- 데이터 유효성, 누락 검사\n",
    "- 분포, 상관관계 분석\n",
    "- 전처리 : X(이동 평균(5일)), Y(다음 5일날 종가) 분리, 정규화\n",
    "- LinearRegression 점수 측정, tensorflow RNN(s2s model)\n",
    "- 그래프로 시각화 (역 정규화) "
   ]
  },
  {
   "cell_type": "code",
   "execution_count": 4,
   "metadata": {},
   "outputs": [
    {
     "data": {
      "text/plain": [
       "30"
      ]
     },
     "execution_count": 4,
     "metadata": {},
     "output_type": "execute_result"
    }
   ],
   "source": [
    "삼성 = '005930'\n",
    "삼천리자전거 = '024950'\n",
    "url_base = 'https://finance.naver.com/item/sise_day.nhn?code='\n",
    "url = url_base + 삼성 +'&page='\n",
    "page_list = []\n",
    "max_page = 31 \n",
    "for page in range(1, max_page):\n",
    "    tables = pd.read_html(url+str(page))\n",
    "    page_list.append(tables[0]) # 네이버는 첫번쨰 테이블[0]이 증시데이터 입니다.\n",
    "len(page_list)"
   ]
  },
  {
   "cell_type": "code",
   "execution_count": 5,
   "metadata": {},
   "outputs": [],
   "source": [
    "df = pd.concat(page_list, axis=0)\n",
    "df = df.dropna()\n",
    "df = df.set_index('날짜').drop(columns='전일비')\n",
    "df = df.iloc[::-1] # 행을 반대로 뒤집기 "
   ]
  },
  {
   "cell_type": "code",
   "execution_count": 7,
   "metadata": {},
   "outputs": [
    {
     "data": {
      "text/html": [
       "<div>\n",
       "<style scoped>\n",
       "    .dataframe tbody tr th:only-of-type {\n",
       "        vertical-align: middle;\n",
       "    }\n",
       "\n",
       "    .dataframe tbody tr th {\n",
       "        vertical-align: top;\n",
       "    }\n",
       "\n",
       "    .dataframe thead th {\n",
       "        text-align: right;\n",
       "    }\n",
       "</style>\n",
       "<table border=\"1\" class=\"dataframe\">\n",
       "  <thead>\n",
       "    <tr style=\"text-align: right;\">\n",
       "      <th></th>\n",
       "      <th>종가</th>\n",
       "      <th>시가</th>\n",
       "      <th>고가</th>\n",
       "      <th>저가</th>\n",
       "      <th>거래량</th>\n",
       "    </tr>\n",
       "    <tr>\n",
       "      <th>날짜</th>\n",
       "      <th></th>\n",
       "      <th></th>\n",
       "      <th></th>\n",
       "      <th></th>\n",
       "      <th></th>\n",
       "    </tr>\n",
       "  </thead>\n",
       "  <tbody>\n",
       "    <tr>\n",
       "      <th>2019.09.06</th>\n",
       "      <td>46300.0</td>\n",
       "      <td>46500.0</td>\n",
       "      <td>46500.0</td>\n",
       "      <td>45850.0</td>\n",
       "      <td>9896562.0</td>\n",
       "    </tr>\n",
       "    <tr>\n",
       "      <th>2019.09.09</th>\n",
       "      <td>46900.0</td>\n",
       "      <td>46450.0</td>\n",
       "      <td>47000.0</td>\n",
       "      <td>46300.0</td>\n",
       "      <td>9434157.0</td>\n",
       "    </tr>\n",
       "    <tr>\n",
       "      <th>2019.09.10</th>\n",
       "      <td>47000.0</td>\n",
       "      <td>47100.0</td>\n",
       "      <td>47200.0</td>\n",
       "      <td>46550.0</td>\n",
       "      <td>9231792.0</td>\n",
       "    </tr>\n",
       "    <tr>\n",
       "      <th>2019.09.11</th>\n",
       "      <td>47150.0</td>\n",
       "      <td>47300.0</td>\n",
       "      <td>47400.0</td>\n",
       "      <td>46800.0</td>\n",
       "      <td>16141619.0</td>\n",
       "    </tr>\n",
       "    <tr>\n",
       "      <th>2019.09.16</th>\n",
       "      <td>46850.0</td>\n",
       "      <td>47000.0</td>\n",
       "      <td>47050.0</td>\n",
       "      <td>46400.0</td>\n",
       "      <td>7535946.0</td>\n",
       "    </tr>\n",
       "  </tbody>\n",
       "</table>\n",
       "</div>"
      ],
      "text/plain": [
       "                 종가       시가       고가       저가         거래량\n",
       "날짜                                                        \n",
       "2019.09.06  46300.0  46500.0  46500.0  45850.0   9896562.0\n",
       "2019.09.09  46900.0  46450.0  47000.0  46300.0   9434157.0\n",
       "2019.09.10  47000.0  47100.0  47200.0  46550.0   9231792.0\n",
       "2019.09.11  47150.0  47300.0  47400.0  46800.0  16141619.0\n",
       "2019.09.16  46850.0  47000.0  47050.0  46400.0   7535946.0"
      ]
     },
     "execution_count": 7,
     "metadata": {},
     "output_type": "execute_result"
    }
   ],
   "source": [
    "df.tail()"
   ]
  },
  {
   "cell_type": "code",
   "execution_count": 8,
   "metadata": {},
   "outputs": [
    {
     "data": {
      "text/plain": [
       "0"
      ]
     },
     "execution_count": 8,
     "metadata": {},
     "output_type": "execute_result"
    }
   ],
   "source": [
    "df.isna().sum().sum()"
   ]
  },
  {
   "cell_type": "code",
   "execution_count": 9,
   "metadata": {},
   "outputs": [
    {
     "data": {
      "text/plain": [
       "<matplotlib.axes._subplots.AxesSubplot at 0xe4845c0>"
      ]
     },
     "execution_count": 9,
     "metadata": {},
     "output_type": "execute_result"
    },
    {
     "data": {
      "image/png": "[encoded data removed]",
      "text/plain": [
       "<Figure size 360x72 with 1 Axes>"
      ]
     },
     "metadata": {
      "needs_background": "light"
     },
     "output_type": "display_data"
    }
   ],
   "source": [
    "df.boxplot(figsize=(5,1))"
   ]
  },
  {
   "cell_type": "code",
   "execution_count": 10,
   "metadata": {},
   "outputs": [
    {
     "data": {
      "text/html": [
       "<div>\n",
       "<style scoped>\n",
       "    .dataframe tbody tr th:only-of-type {\n",
       "        vertical-align: middle;\n",
       "    }\n",
       "\n",
       "    .dataframe tbody tr th {\n",
       "        vertical-align: top;\n",
       "    }\n",
       "\n",
       "    .dataframe thead th {\n",
       "        text-align: right;\n",
       "    }\n",
       "</style>\n",
       "<table border=\"1\" class=\"dataframe\">\n",
       "  <thead>\n",
       "    <tr style=\"text-align: right;\">\n",
       "      <th></th>\n",
       "      <th>종가</th>\n",
       "      <th>시가</th>\n",
       "      <th>고가</th>\n",
       "      <th>저가</th>\n",
       "      <th>거래량</th>\n",
       "    </tr>\n",
       "  </thead>\n",
       "  <tbody>\n",
       "    <tr>\n",
       "      <th>종가</th>\n",
       "      <td>1.000000</td>\n",
       "      <td>0.971356</td>\n",
       "      <td>0.988014</td>\n",
       "      <td>0.988119</td>\n",
       "      <td>-0.265039</td>\n",
       "    </tr>\n",
       "    <tr>\n",
       "      <th>시가</th>\n",
       "      <td>0.971356</td>\n",
       "      <td>1.000000</td>\n",
       "      <td>0.987047</td>\n",
       "      <td>0.988238</td>\n",
       "      <td>-0.253554</td>\n",
       "    </tr>\n",
       "    <tr>\n",
       "      <th>고가</th>\n",
       "      <td>0.988014</td>\n",
       "      <td>0.987047</td>\n",
       "      <td>1.000000</td>\n",
       "      <td>0.988747</td>\n",
       "      <td>-0.222987</td>\n",
       "    </tr>\n",
       "    <tr>\n",
       "      <th>저가</th>\n",
       "      <td>0.988119</td>\n",
       "      <td>0.988238</td>\n",
       "      <td>0.988747</td>\n",
       "      <td>1.000000</td>\n",
       "      <td>-0.291071</td>\n",
       "    </tr>\n",
       "    <tr>\n",
       "      <th>거래량</th>\n",
       "      <td>-0.265039</td>\n",
       "      <td>-0.253554</td>\n",
       "      <td>-0.222987</td>\n",
       "      <td>-0.291071</td>\n",
       "      <td>1.000000</td>\n",
       "    </tr>\n",
       "  </tbody>\n",
       "</table>\n",
       "</div>"
      ],
      "text/plain": [
       "           종가        시가        고가        저가       거래량\n",
       "종가   1.000000  0.971356  0.988014  0.988119 -0.265039\n",
       "시가   0.971356  1.000000  0.987047  0.988238 -0.253554\n",
       "고가   0.988014  0.987047  1.000000  0.988747 -0.222987\n",
       "저가   0.988119  0.988238  0.988747  1.000000 -0.291071\n",
       "거래량 -0.265039 -0.253554 -0.222987 -0.291071  1.000000"
      ]
     },
     "execution_count": 10,
     "metadata": {},
     "output_type": "execute_result"
    }
   ],
   "source": [
    "df.corr() #상관 관계 "
   ]
  },
  {
   "cell_type": "code",
   "execution_count": 130,
   "metadata": {},
   "outputs": [
    {
     "data": {
      "text/html": [
       "<div>\n",
       "<style scoped>\n",
       "    .dataframe tbody tr th:only-of-type {\n",
       "        vertical-align: middle;\n",
       "    }\n",
       "\n",
       "    .dataframe tbody tr th {\n",
       "        vertical-align: top;\n",
       "    }\n",
       "\n",
       "    .dataframe thead th {\n",
       "        text-align: right;\n",
       "    }\n",
       "</style>\n",
       "<table border=\"1\" class=\"dataframe\">\n",
       "  <thead>\n",
       "    <tr style=\"text-align: right;\">\n",
       "      <th></th>\n",
       "      <th>종가</th>\n",
       "      <th>시가</th>\n",
       "      <th>고가</th>\n",
       "      <th>저가</th>\n",
       "      <th>거래량</th>\n",
       "    </tr>\n",
       "  </thead>\n",
       "  <tbody>\n",
       "    <tr>\n",
       "      <th>종가</th>\n",
       "      <td>1.000000</td>\n",
       "      <td>0.970845</td>\n",
       "      <td>0.988021</td>\n",
       "      <td>0.987957</td>\n",
       "      <td>-0.268811</td>\n",
       "    </tr>\n",
       "    <tr>\n",
       "      <th>시가</th>\n",
       "      <td>0.970845</td>\n",
       "      <td>1.000000</td>\n",
       "      <td>0.986696</td>\n",
       "      <td>0.988068</td>\n",
       "      <td>-0.257964</td>\n",
       "    </tr>\n",
       "    <tr>\n",
       "      <th>고가</th>\n",
       "      <td>0.988021</td>\n",
       "      <td>0.986696</td>\n",
       "      <td>1.000000</td>\n",
       "      <td>0.988656</td>\n",
       "      <td>-0.226417</td>\n",
       "    </tr>\n",
       "    <tr>\n",
       "      <th>저가</th>\n",
       "      <td>0.987957</td>\n",
       "      <td>0.988068</td>\n",
       "      <td>0.988656</td>\n",
       "      <td>1.000000</td>\n",
       "      <td>-0.295684</td>\n",
       "    </tr>\n",
       "    <tr>\n",
       "      <th>거래량</th>\n",
       "      <td>-0.268811</td>\n",
       "      <td>-0.257964</td>\n",
       "      <td>-0.226417</td>\n",
       "      <td>-0.295684</td>\n",
       "      <td>1.000000</td>\n",
       "    </tr>\n",
       "  </tbody>\n",
       "</table>\n",
       "</div>"
      ],
      "text/plain": [
       "           종가        시가        고가        저가       거래량\n",
       "종가   1.000000  0.970845  0.988021  0.987957 -0.268811\n",
       "시가   0.970845  1.000000  0.986696  0.988068 -0.257964\n",
       "고가   0.988021  0.986696  1.000000  0.988656 -0.226417\n",
       "저가   0.987957  0.988068  0.988656  1.000000 -0.295684\n",
       "거래량 -0.268811 -0.257964 -0.226417 -0.295684  1.000000"
      ]
     },
     "execution_count": 130,
     "metadata": {},
     "output_type": "execute_result"
    }
   ],
   "source": [
    "df.corr()"
   ]
  },
  {
   "cell_type": "code",
   "execution_count": 12,
   "metadata": {},
   "outputs": [],
   "source": [
    "x = df.iloc[:-1] # 전날\n",
    "y = df.iloc[1:]['종가'] # 다음날"
   ]
  },
  {
   "cell_type": "code",
   "execution_count": 13,
   "metadata": {},
   "outputs": [
    {
     "data": {
      "text/plain": [
       "0.9119347255188083"
      ]
     },
     "execution_count": 13,
     "metadata": {},
     "output_type": "execute_result"
    }
   ],
   "source": [
    "from sklearn.linear_model import LinearRegression\n",
    "model = LinearRegression().fit(x, y)\n",
    "model.score(x, y)"
   ]
  },
  {
   "cell_type": "code",
   "execution_count": 14,
   "metadata": {
    "scrolled": true
   },
   "outputs": [
    {
     "data": {
      "text/plain": [
       "<matplotlib.legend.Legend at 0x106fe9e8>"
      ]
     },
     "execution_count": 14,
     "metadata": {},
     "output_type": "execute_result"
    },
    {
     "data": {
      "image/png": "[encoded data removed]",
      "text/plain": [
       "<Figure size 720x216 with 1 Axes>"
      ]
     },
     "metadata": {
      "needs_background": "light"
     },
     "output_type": "display_data"
    }
   ],
   "source": [
    "df[['시가', '종가']].plot(figsize=(10, 3))\n",
    "plt.plot(model.predict(x), label='예측')\n",
    "plt.legend()"
   ]
  },
  {
   "cell_type": "markdown",
   "metadata": {},
   "source": [
    "전일비를 추가하자"
   ]
  },
  {
   "cell_type": "code",
   "execution_count": 15,
   "metadata": {},
   "outputs": [],
   "source": [
    "#전일비 = 다음날 ? - 전날 ?\n",
    "전일비 = df.iloc[1:]['시가']  - df.iloc[:-1]['종가'] \n",
    "df['전일비'] = 전일비\n",
    "df = df.dropna()\n",
    "#전일비"
   ]
  },
  {
   "cell_type": "markdown",
   "metadata": {},
   "source": [
    "이동평균을 넣어보자"
   ]
  },
  {
   "cell_type": "code",
   "execution_count": 16,
   "metadata": {
    "scrolled": false
   },
   "outputs": [],
   "source": [
    "df_rol = df.rolling(window=5).mean()"
   ]
  },
  {
   "cell_type": "code",
   "execution_count": 17,
   "metadata": {},
   "outputs": [],
   "source": [
    "df_rol.columns = ['종가_rol', '시가_rol', '고가_rol', '저가_rol', '거래량_rol','전일비_rol'] "
   ]
  },
  {
   "cell_type": "code",
   "execution_count": 18,
   "metadata": {},
   "outputs": [
    {
     "data": {
      "text/html": [
       "<div>\n",
       "<style scoped>\n",
       "    .dataframe tbody tr th:only-of-type {\n",
       "        vertical-align: middle;\n",
       "    }\n",
       "\n",
       "    .dataframe tbody tr th {\n",
       "        vertical-align: top;\n",
       "    }\n",
       "\n",
       "    .dataframe thead th {\n",
       "        text-align: right;\n",
       "    }\n",
       "</style>\n",
       "<table border=\"1\" class=\"dataframe\">\n",
       "  <thead>\n",
       "    <tr style=\"text-align: right;\">\n",
       "      <th></th>\n",
       "      <th>종가</th>\n",
       "      <th>시가</th>\n",
       "      <th>고가</th>\n",
       "      <th>저가</th>\n",
       "      <th>거래량</th>\n",
       "      <th>전일비</th>\n",
       "      <th>종가_rol</th>\n",
       "      <th>시가_rol</th>\n",
       "      <th>고가_rol</th>\n",
       "      <th>저가_rol</th>\n",
       "      <th>거래량_rol</th>\n",
       "      <th>전일비_rol</th>\n",
       "    </tr>\n",
       "    <tr>\n",
       "      <th>날짜</th>\n",
       "      <th></th>\n",
       "      <th></th>\n",
       "      <th></th>\n",
       "      <th></th>\n",
       "      <th></th>\n",
       "      <th></th>\n",
       "      <th></th>\n",
       "      <th></th>\n",
       "      <th></th>\n",
       "      <th></th>\n",
       "      <th></th>\n",
       "      <th></th>\n",
       "    </tr>\n",
       "  </thead>\n",
       "  <tbody>\n",
       "    <tr>\n",
       "      <th>2018.07.04</th>\n",
       "      <td>46250.0</td>\n",
       "      <td>46700.0</td>\n",
       "      <td>47050.0</td>\n",
       "      <td>46050.0</td>\n",
       "      <td>8776763.0</td>\n",
       "      <td>450.0</td>\n",
       "      <td>46280.0</td>\n",
       "      <td>46410.0</td>\n",
       "      <td>46990.0</td>\n",
       "      <td>46020.0</td>\n",
       "      <td>11946621.2</td>\n",
       "      <td>130.0</td>\n",
       "    </tr>\n",
       "  </tbody>\n",
       "</table>\n",
       "</div>"
      ],
      "text/plain": [
       "                 종가       시가       고가       저가        거래량    전일비   종가_rol  \\\n",
       "날짜                                                                          \n",
       "2018.07.04  46250.0  46700.0  47050.0  46050.0  8776763.0  450.0  46280.0   \n",
       "\n",
       "             시가_rol   고가_rol   저가_rol     거래량_rol  전일비_rol  \n",
       "날짜                                                          \n",
       "2018.07.04  46410.0  46990.0  46020.0  11946621.2    130.0  "
      ]
     },
     "execution_count": 18,
     "metadata": {},
     "output_type": "execute_result"
    }
   ],
   "source": [
    "df_con = pd.concat((df, df_rol), axis=1).dropna()\n",
    "df_con.head(1)"
   ]
  },
  {
   "cell_type": "markdown",
   "metadata": {},
   "source": [
    "지금까지는 데이터에 시간축이 없었습니다\n",
    "\n",
    "X 는 과거의 5일치 데이터입니다 \n",
    "Y 는 미래의 5일치 데이터입니다\n",
    "데이터가 10일치가 있었다면 X, Y 1 셋트 만들 수 있습니다 \n",
    "데이터가 11일치가 있었다면 X, Y 2 셋트 만들 수 있습니다 \n",
    "\n",
    "m_seq = m - (x_seq + y_seq) + 1\n",
    "1     = 10 - ( 5 + 5) + 1\n",
    "2     = 11 - ( 5 + 5) + 1\n",
    "285   = 294 -( 5 + 5) + 1"
   ]
  },
  {
   "cell_type": "code",
   "execution_count": 21,
   "metadata": {},
   "outputs": [
    {
     "data": {
      "text/plain": [
       "((294, 12), 294)"
      ]
     },
     "execution_count": 21,
     "metadata": {},
     "output_type": "execute_result"
    }
   ],
   "source": [
    "df_con.shape, len(df_con)"
   ]
  },
  {
   "cell_type": "code",
   "execution_count": 63,
   "metadata": {},
   "outputs": [
    {
     "data": {
      "text/plain": [
       "(280, 280)"
      ]
     },
     "execution_count": 63,
     "metadata": {},
     "output_type": "execute_result"
    }
   ],
   "source": [
    "x_T = 10\n",
    "y_T = 5\n",
    "# X (285, 5, 12), y (285, 5)\n",
    "x_list = []\n",
    "y_list = []\n",
    "for i in range(len(df_con) - (x_T + y_T) + 1): # 285번 반복 \n",
    "    x = df_con.iloc[i : i+x_T] #[0:5] 과거의 5일\n",
    "    y = df_con.iloc[i+x_T : i+x_T+y_T]['종가'] #[5:10] 미래의 5일\n",
    "    x_list.append(x)\n",
    "    y_list.append(y)\n",
    "len(x_list), len(y_list)"
   ]
  },
  {
   "cell_type": "code",
   "execution_count": 64,
   "metadata": {
    "scrolled": true
   },
   "outputs": [
    {
     "data": {
      "text/plain": [
       "(numpy.ndarray, (280, 10, 12), (280, 5), dtype('float32'), dtype('float32'))"
      ]
     },
     "execution_count": 64,
     "metadata": {},
     "output_type": "execute_result"
    }
   ],
   "source": [
    "X = np.stack(x_list, axis=0).astype(np.float32)\n",
    "y = np.stack(y_list, axis=0).astype(np.float32)\n",
    "type(X), X.shape, y.shape, X.dtype, y.dtype"
   ]
  },
  {
   "cell_type": "code",
   "execution_count": null,
   "metadata": {},
   "outputs": [],
   "source": [
    "from sklearn.preprocessing import MinMaxScaler\n",
    "X_2d = X.reshape([-1, 12]) # 3d > 2d\n",
    "y_2d = y.reshape([-1, 1]) # 특징 5개가 아니고 , 특징 1개 이므로 \n",
    "scaler_x = MinMaxScaler().fit(X_2d)\n",
    "scaler_y = MinMaxScaler().fit(y_2d)\n",
    "xn = scaler_x.transform(X_2d)\n",
    "yn = scaler_y.transform(y_2d)\n",
    "xn = xn.reshape(X.shape) # 2d > 3d\n",
    "yn = yn.reshape(y.shape)\n",
    "xn.shape, yn.shape,  np.min(xn), np.max(xn), np.min(yn), np.max(yn)"
   ]
  },
  {
   "cell_type": "code",
   "execution_count": 41,
   "metadata": {},
   "outputs": [],
   "source": [
    "import tensorflow.contrib.slim as slim\n",
    "tf.reset_default_graph()\n",
    "cell_enc = tf.nn.rnn_cell.GRUCell(100, name='enc')\n",
    "cell_dec = tf.nn.rnn_cell.GRUCell(100, name='dec')\n",
    "net = slim.conv1d(xn, num_outputs=10, kernel_size=3)\n",
    "outputs, last_state = tf.nn.dynamic_rnn(cell_enc, net, dtype=tf.float32)\n",
    "zero = tf.zeros([len(xn), y_T, 1]) # x와 y 의 시퀀스가 다를 때 \n",
    "context_vector = last_state # 모든 정보가 이 안에 있습니다\n",
    "outputs, last_state = tf.nn.dynamic_rnn(cell_dec,zero,initial_state=context_vector)\n",
    "h = slim.fully_connected(outputs, 1)\n",
    "h = tf.squeeze(h, axis=-1) #맨 뒤쪽 차원을 제거해라 \n",
    "cost = tf.reduce_mean((yn - h)**2)\n",
    "train = tf.train.GradientDescentOptimizer(0.1).minimize(cost)\n",
    "sess = tf.Session()\n",
    "sess.run(tf.global_variables_initializer())"
   ]
  },
  {
   "cell_type": "code",
   "execution_count": 53,
   "metadata": {},
   "outputs": [
    {
     "name": "stdout",
     "output_type": "stream",
     "text": [
      "999 0.010938753\n"
     ]
    }
   ],
   "source": [
    "for i in range(1000):\n",
    "    _, c = sess.run([train, cost])    \n",
    "    #if i%100 == 0: print(i, c)\n",
    "print(i, c)"
   ]
  },
  {
   "cell_type": "code",
   "execution_count": 62,
   "metadata": {},
   "outputs": [
    {
     "name": "stdout",
     "output_type": "stream",
     "text": [
      "1 일 후 0.8772743189056558\n",
      "2 일 후 0.806552947698169\n",
      "3 일 후 0.7342200458163912\n",
      "4 일 후 0.665505115185024\n",
      "5 일 후 0.5998576901910064\n"
     ]
    }
   ],
   "source": [
    "from sklearn.metrics import r2_score\n",
    "predict = sess.run(h) # 미래 5일 예측 종가\n",
    "for i in range(y_T):\n",
    "    print(i+1, '일 후', r2_score(yn[:, [i]], predict[:, [i]]))"
   ]
  },
  {
   "cell_type": "code",
   "execution_count": 57,
   "metadata": {},
   "outputs": [
    {
     "data": {
      "text/plain": [
       "<matplotlib.legend.Legend at 0x161aeda0>"
      ]
     },
     "execution_count": 57,
     "metadata": {},
     "output_type": "execute_result"
    },
    {
     "data": {
      "image/png": "[encoded data removed]",
      "text/plain": [
       "<Figure size 1080x144 with 1 Axes>"
      ]
     },
     "metadata": {
      "needs_background": "light"
     },
     "output_type": "display_data"
    }
   ],
   "source": [
    "plt.figure(figsize=(15,2))\n",
    "plt.plot(scaler_y.inverse_transform(yn[:, [0]]), label='y')\n",
    "plt.plot(scaler_y.inverse_transform(predict[:, [0]]), label='p')\n",
    "plt.legend()"
   ]
  },
  {
   "cell_type": "code",
   "execution_count": 49,
   "metadata": {},
   "outputs": [
    {
     "data": {
      "text/plain": [
       "<matplotlib.legend.Legend at 0x1a72c358>"
      ]
     },
     "execution_count": 49,
     "metadata": {},
     "output_type": "execute_result"
    },
    {
     "data": {
      "image/png": "[encoded data removed]",
      "text/plain": [
       "<Figure size 1080x144 with 1 Axes>"
      ]
     },
     "metadata": {
      "needs_background": "light"
     },
     "output_type": "display_data"
    }
   ],
   "source": [
    "plt.figure(figsize=(15,2))\n",
    "plt.plot(scaler_y.inverse_transform(yn[:, [4]]), label='y')\n",
    "plt.plot(scaler_y.inverse_transform(predict[:, [4]]), label='p')\n",
    "plt.legend()"
   ]
  },
  {
   "cell_type": "code",
   "execution_count": null,
   "metadata": {},
   "outputs": [],
   "source": []
  }
 ],
 "metadata": {
  "kernelspec": {
   "display_name": "Python 3",
   "language": "python",
   "name": "python3"
  },
  "language_info": {
   "codemirror_mode": {
    "name": "ipython",
    "version": 3
   },
   "file_extension": ".py",
   "mimetype": "text/x-python",
   "name": "python",
   "nbconvert_exporter": "python",
   "pygments_lexer": "ipython3",
   "version": "3.7.3"
  }
 },
 "nbformat": 4,
 "nbformat_minor": 2
}
