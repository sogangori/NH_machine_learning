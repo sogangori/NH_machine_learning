{
 "cells": [
  {
   "cell_type": "markdown",
   "metadata": {},
   "source": [
    "## neural translate 번역\n",
    "\n",
    "- 문장 > 단어(토큰)들     : 토큰나이징 tokenizing\n",
    "- 단어 > 벡터(1차원 배열) : word embedding"
   ]
  },
  {
   "cell_type": "code",
   "execution_count": 1,
   "metadata": {},
   "outputs": [],
   "source": [
    "import numpy as np\n",
    "import tensorflow as tf\n",
    "import matplotlib.pyplot as plt"
   ]
  },
  {
   "cell_type": "code",
   "execution_count": 2,
   "metadata": {},
   "outputs": [
    {
     "data": {
      "text/plain": [
       "(5, 5)"
      ]
     },
     "execution_count": 2,
     "metadata": {},
     "output_type": "execute_result"
    }
   ],
   "source": [
    "x = [[0,3,1],[0,5,1],[0,6,1],[7,3,2],[7,4,2]] # 문장 > 심볼\n",
    "y = [[0,1,2,4],[0,1,2,6],[0,1,2,7],[8,9,4,3],[8,9,5,3]]\n",
    "len(x), len(y)"
   ]
  },
  {
   "cell_type": "markdown",
   "metadata": {},
   "source": [
    "문장 > 토큰나이징 > 토큰(단어)들\n",
    "나는 남자 다 i am a man\n",
    "나는 소년 다 i am a boy\n",
    "나는 소녀 다 i am a girl\n",
    "너는 남자 ?  are you man ?\n",
    "너는 여자 ?  are you woman ?"
   ]
  },
  {
   "cell_type": "markdown",
   "metadata": {},
   "source": [
    "나는 : 0 \n",
    "다 : 1\n",
    "? : 2\n",
    "남자 : 3\n",
    "여자 : 4\n",
    "소년 : 5\n",
    "소녀 : 6\n",
    "너는 : 7"
   ]
  },
  {
   "cell_type": "code",
   "execution_count": null,
   "metadata": {},
   "outputs": [],
   "source": [
    "i : 0 \n",
    "am : 1\n",
    "a : 2\n",
    "? : 3\n",
    "man : 4\n",
    "woman : 5\n",
    "boy : 6\n",
    "girl : 7\n",
    "are : 8\n",
    "you : 9"
   ]
  },
  {
   "cell_type": "code",
   "execution_count": 30,
   "metadata": {},
   "outputs": [
    {
     "data": {
      "text/plain": [
       "((5, 3), (5, 4), dtype('int32'), dtype('int32'))"
      ]
     },
     "execution_count": 30,
     "metadata": {},
     "output_type": "execute_result"
    }
   ],
   "source": [
    "x = np.array(x)\n",
    "y = np.array(y)\n",
    "x.shape, y.shape, x.dtype, y.dtype"
   ]
  },
  {
   "cell_type": "code",
   "execution_count": 246,
   "metadata": {},
   "outputs": [
    {
     "data": {
      "text/plain": [
       "(8, 10, dtype('int32'))"
      ]
     },
     "execution_count": 246,
     "metadata": {},
     "output_type": "execute_result"
    }
   ],
   "source": [
    "embedding_size = 5 # 한 단어는 사이즈 5의 벡터로 변환하겠다\n",
    "vocabulary_size = np.max(x) + 1 # 한글 전체 단어 수 8\n",
    "vocabulary_size_target = np.max(y) + 1 # 영어 전체 단어수 10 \n",
    "vocabulary_size, vocabulary_size_target, vocabulary_size_target.dtype"
   ]
  },
  {
   "cell_type": "code",
   "execution_count": 263,
   "metadata": {
    "scrolled": true
   },
   "outputs": [],
   "source": [
    "tf.reset_default_graph()\n",
    "import tensorflow.contrib.slim as slim\n",
    "\n",
    "word_embeddings = tf.get_variable('embed',shape=[vocabulary_size, embedding_size])\n",
    "embedded = tf.nn.embedding_lookup(word_embeddings, x)#(5,3) > (5,3,embedding_size) \n",
    "cell_encoder = tf.nn.rnn_cell.GRUCell(100, name='enc')\n",
    "tf.nn.rnn_cell.DropoutWrapper(cell_encoder, )\n",
    "outputs, last_state = tf.nn.dynamic_rnn(cell_encoder, embedded, dtype=tf.float32)\n",
    "cell_decoder = tf.nn.rnn_cell.GRUCell(100, name='dec')\n",
    "#(5:다섯개의 문장, 4:문장의 단어 수, 단어를 ?개의 배열로 변환해라)\n",
    "zero_matrix = tf.zeros([5, 4, embedding_size]) \n",
    "outputs, last_state = tf.nn.dynamic_rnn(\n",
    "    cell_decoder, zero_matrix, initial_state=last_state)\n",
    "out = slim.fully_connected(outputs, 10) # 영어 단어 총 10개\n",
    "cost = tf.compat.v1.nn.sparse_softmax_cross_entropy_with_logits(logits=out,labels=y)\n",
    "cost = tf.reduce_mean(cost)\n",
    "train = tf.train.GradientDescentOptimizer(0.1).minimize(cost)\n",
    "sess = tf.Session()\n",
    "sess.run(tf.global_variables_initializer())"
   ]
  },
  {
   "cell_type": "code",
   "execution_count": 267,
   "metadata": {},
   "outputs": [
    {
     "name": "stdout",
     "output_type": "stream",
     "text": [
      "999 0.69221497\n"
     ]
    }
   ],
   "source": [
    "for i in range(1000):\n",
    "    _, c = sess.run([train, cost])\n",
    "print(i, c)"
   ]
  },
  {
   "cell_type": "code",
   "execution_count": 271,
   "metadata": {},
   "outputs": [
    {
     "name": "stdout",
     "output_type": "stream",
     "text": [
      "[[0 1 2 0]\n",
      " [0 1 2 0]\n",
      " [0 1 2 7]\n",
      " [8 0 0 3]\n",
      " [8 0 0 3]]\n"
     ]
    }
   ],
   "source": [
    "np.set_printoptions(precision=3, suppress=True)\n",
    "y_cls = np.argmax(sess.run(out), -1)\n",
    "print(y_cls)"
   ]
  }
 ],
 "metadata": {
  "kernelspec": {
   "display_name": "Python 3",
   "language": "python",
   "name": "python3"
  },
  "language_info": {
   "codemirror_mode": {
    "name": "ipython",
    "version": 3
   },
   "file_extension": ".py",
   "mimetype": "text/x-python",
   "name": "python",
   "nbconvert_exporter": "python",
   "pygments_lexer": "ipython3",
   "version": "3.7.3"
  }
 },
 "nbformat": 4,
 "nbformat_minor": 2
}
