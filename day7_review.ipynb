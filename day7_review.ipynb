{
 "cells": [
  {
   "cell_type": "markdown",
   "metadata": {},
   "source": [
    "# 멀티 클래스 분류"
   ]
  },
  {
   "cell_type": "code",
   "execution_count": 2,
   "metadata": {},
   "outputs": [],
   "source": [
    "import pandas as pd\n",
    "import numpy as np\n",
    "import tensorflow as tf\n",
    "import matplotlib.pyplot as plt"
   ]
  },
  {
   "cell_type": "code",
   "execution_count": 3,
   "metadata": {},
   "outputs": [],
   "source": [
    "from sklearn.datasets import load_iris #3종류 붓꽃 분류"
   ]
  },
  {
   "cell_type": "code",
   "execution_count": 5,
   "metadata": {},
   "outputs": [
    {
     "data": {
      "text/plain": [
       "((150, 4), (150,), 0, 2)"
      ]
     },
     "execution_count": 5,
     "metadata": {},
     "output_type": "execute_result"
    }
   ],
   "source": [
    "#X : 꽃의 길이 너비, 꽃밭침의 길이 너비 4개\n",
    "X, y = load_iris(return_X_y=True)\n",
    "X.shape, y.shape, min(y), max(y)"
   ]
  },
  {
   "cell_type": "code",
   "execution_count": 6,
   "metadata": {},
   "outputs": [],
   "source": [
    "from sklearn.linear_model import LogisticRegression"
   ]
  },
  {
   "cell_type": "code",
   "execution_count": null,
   "metadata": {},
   "outputs": [],
   "source": [
    "# P_k = W_k * X + b_k \n",
    "# W : (3, 4), b : (3)   3 : 클래스가 3종류,  4: x는 4개의 특징\n",
    "model = LogisticRegression().fit(X, y)\n",
    "print('accuracy', model.score(X, y))\n",
    "print('w', model.coef_, 'b',model.intercept_)"
   ]
  },
  {
   "cell_type": "code",
   "execution_count": 22,
   "metadata": {},
   "outputs": [
    {
     "data": {
      "text/plain": [
       "(numpy.ndarray, numpy.ndarray, 7.9, 0.1, (150, 4), (150,))"
      ]
     },
     "execution_count": 22,
     "metadata": {},
     "output_type": "execute_result"
    }
   ],
   "source": [
    "type(X), type(y), np.max(X), np.min(X), X.shape, y.shape"
   ]
  },
  {
   "cell_type": "code",
   "execution_count": 23,
   "metadata": {},
   "outputs": [],
   "source": [
    "from sklearn.preprocessing import OneHotEncoder"
   ]
  },
  {
   "cell_type": "code",
   "execution_count": null,
   "metadata": {},
   "outputs": [],
   "source": [
    "y_2d = y.reshape([-1,1]) \n",
    "y_hot = OneHotEncoder().fit_transform(y_2d) # # tf.one_hot() 과 같다\n",
    "y_hot = y_hot.toarray() # sparse matrix > dense matrix\n",
    "x = X.astype(np.float32) "
   ]
  },
  {
   "cell_type": "code",
   "execution_count": 52,
   "metadata": {},
   "outputs": [],
   "source": [
    "w = tf.Variable(tf.random_normal(shape=[4, 3])) #[4개 특징, 3개의 클래스] \n",
    "b = tf.Variable(tf.random_normal(shape=[3]))#3개의 클래스 \n",
    "xn = x / tf.reduce_max(x)\n",
    "z = tf.matmul(xn, w) + b \n",
    "h = tf.nn.softmax(z)\n",
    "h = tf.clip_by_value(h, 1e-8, 1 - 1e-8) # log(0) 이 되지 않도록 안전장치\n",
    "cost = - tf.reduce_mean(y_hot * tf.log(h) + (1-y_hot) * tf.log(1-h))\n",
    "regularization = 1e-3 * tf.reduce_mean(w**2)\n",
    "predict_class = tf.math.argmax(h, axis=1, output_type=tf.int32) #[0, 2]\n",
    "accuracy = tf.reduce_mean(tf.cast(tf.equal(predict_class, y), tf.float32)) \n",
    "train = tf.train.GradientDescentOptimizer(0.5).minimize(cost+regularization)\n",
    "sess = tf.Session()\n",
    "sess.run(tf.global_variables_initializer())"
   ]
  },
  {
   "cell_type": "code",
   "execution_count": 57,
   "metadata": {},
   "outputs": [
    {
     "name": "stdout",
     "output_type": "stream",
     "text": [
      "0 0.1598476 0.96666664\n",
      "w [[ -0.2642927    0.9067765    0.95718384]\n",
      " [  4.499873    -2.4206192   -1.3974764 ]\n",
      " [-12.492539     0.7189513   12.330529  ]\n",
      " [ -5.4193506   -2.491332     9.136149  ]]\n"
     ]
    }
   ],
   "source": [
    "for i in range(1000):\n",
    "    _, c, a = sess.run([train, cost, accuracy])\n",
    "    if i%1000 == 0: print(i, c, a)\n",
    "print('w', sess.run(w))"
   ]
  },
  {
   "cell_type": "code",
   "execution_count": null,
   "metadata": {},
   "outputs": [],
   "source": []
  }
 ],
 "metadata": {
  "kernelspec": {
   "display_name": "Python 3",
   "language": "python",
   "name": "python3"
  },
  "language_info": {
   "codemirror_mode": {
    "name": "ipython",
    "version": 3
   },
   "file_extension": ".py",
   "mimetype": "text/x-python",
   "name": "python",
   "nbconvert_exporter": "python",
   "pygments_lexer": "ipython3",
   "version": "3.7.3"
  }
 },
 "nbformat": 4,
 "nbformat_minor": 2
}
